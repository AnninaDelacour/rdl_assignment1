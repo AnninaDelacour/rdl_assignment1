{
 "cells": [
  {
   "cell_type": "markdown",
   "id": "fee5be5f-746e-4bae-a285-fb55b95ca277",
   "metadata": {},
   "source": [
    "# Exercise 1b - Testing Transformer\n",
    "\n",
    "The objective of this task is to build a question answering and text summarization model (for Exercise 1a).\n",
    "<br>\n",
    "\n",
    "- <b>Group 3:</b> Cesar Laura, Ecker Annina, Dilly Julian\n",
    "- <b>Section of Paper:</b> \"Multi-Head Attention + Scaled Dot Production\"\n",
    "<br>\n",
    "<br>\n",
    "<div class=\"alert alert-block alert-info\">\n",
    "Note: Each of us worked on all tasks independently. We later discussed our findings and merged the best/most representative parts with eachother in one Notebook.\n",
    "</div>"
   ]
  },
  {
   "cell_type": "code",
   "execution_count": 1,
   "id": "34ede63a-e565-4365-aa5e-a38739d15c3d",
   "metadata": {},
   "outputs": [],
   "source": [
    "#!pip install -r requirements.txt\n",
    "#!pip install bert_score"
   ]
  },
  {
   "cell_type": "code",
   "execution_count": 8,
   "id": "ef9d656c-e7a0-4289-8285-2ef75685152d",
   "metadata": {},
   "outputs": [
    {
     "name": "stdout",
     "output_type": "stream",
     "text": [
      "Using MPS device\n"
     ]
    }
   ],
   "source": [
    "import torch\n",
    "\n",
    "if torch.backends.mps.is_available():\n",
    "    device = torch.device(\"mps\")\n",
    "    print(\"Using MPS device\")\n",
    "else:\n",
    "    device = torch.device(\"cpu\")\n",
    "    print(\"Using CPU device\")\n"
   ]
  },
  {
   "cell_type": "code",
   "execution_count": 122,
   "id": "b8049951-d32b-4abc-8f69-d9438be34b58",
   "metadata": {},
   "outputs": [
    {
     "name": "stderr",
     "output_type": "stream",
     "text": [
      "[nltk_data] Downloading package punkt to /Users/annina/nltk_data...\n",
      "[nltk_data]   Package punkt is already up-to-date!\n"
     ]
    }
   ],
   "source": [
    "import warnings\n",
    "warnings.filterwarnings('ignore')\n",
    "\n",
    "import pandas as pd\n",
    "\n",
    "import matplotlib.pyplot as plt\n",
    "import seaborn as sns\n",
    "\n",
    "from transformers import pipeline\n",
    "from transformers import RobertaTokenizer, RobertaForSequenceClassification\n",
    "\n",
    "import textwrap\n",
    "\n",
    "import bert_score\n",
    "\n",
    "import nltk\n",
    "nltk.download('punkt')\n",
    "from nltk.tokenize import sent_tokenize\n"
   ]
  },
  {
   "cell_type": "code",
   "execution_count": 20,
   "id": "732bafe5-7da8-4135-938e-2c0624e7632b",
   "metadata": {},
   "outputs": [],
   "source": [
    "text = \"\"\"Scaled Dot-Product Attention\n",
    "We call our particular attention \"Scaled Dot-Product Attention\". The input consists of\n",
    "queries and keys of dimension d_k, and values of dimension d_v. We compute the dot products of the\n",
    "query with all keys, divide each by square root(d_k), and apply a softmax function to obtain the weights on the\n",
    "values. In practice, we compute the attention function on a set of queries simultaneously, packed together\n",
    "into a matrix Q. The keys and values are also packed together into matrices K and V .\n",
    "The two most commonly used attention functions are additive attention, and dot-product (multiplicative) attention. \n",
    "Dot-product attention is identical to our algorithm, except for the scaling factor of square root(1/d_k). \n",
    "Additive attention computes the compatibility function using a feed-forward network with\n",
    "a single hidden layer. While the two are similar in theoretical complexity, dot-product attention is\n",
    "much faster and more space-efficient in practice, since it can be implemented using highly optimized\n",
    "matrix multiplication code.\n",
    "While for small values of d_k the two mechanisms perform similarly, additive attention outperforms\n",
    "dot product attention without scaling for larger values of d_k. We suspect that for large values of\n",
    "d_k, the dot products grow large in magnitude, pushing the softmax function into regions where it has\n",
    "extremely small gradients. To counteract this effect, we scale the dot products by square root(1/d_k).\n",
    "\n",
    "Multi-Head Attention\n",
    "Instead of performing a single attention function with dmodel-dimensional keys, values and queries,\n",
    "we found it beneficial to linearly project the queries, keys and values h times with different, learned\n",
    "linear projections to dk, dk and dv dimensions, respectively. On each of these projected versions of\n",
    "queries, keys and values we then perform the attention function in parallel, yielding dv-dimensional\n",
    "output values. These are concatenated and once again projected, resulting in the final values.\n",
    "Multi-head attention allows the model to jointly attend to information from different representation\n",
    "subspaces at different positions. With a single attention head, averaging inhibits this.\n",
    "\n",
    "In this work we employ h = 8 parallel attention layers, or heads. For each of these we use\n",
    "d_k = d_v = d_model/h = 64. Due to the reduced dimension of each head, the total computational cost\n",
    "is similar to that of single-head attention with full dimensionality.\n",
    "\n",
    "Applications of Attention in our Model\n",
    "The Transformer uses multi-head attention in three different ways:\n",
    "- In \"encoder-decoder attention\" layers, the queries come from the previous decoder layer,\n",
    "and the memory keys and values come from the output of the encoder. This allows every\n",
    "position in the decoder to attend over all positions in the input sequence. This mimics the\n",
    "typical encoder-decoder attention mechanisms in sequence-to-sequence models.\n",
    "- The encoder contains self-attention layers. In a self-attention layer all of the keys, values\n",
    "and queries come from the same place, in this case, the output of the previous layer in the\n",
    "encoder. Each position in the encoder can attend to all positions in the previous layer of the\n",
    "encoder.\n",
    "- Similarly, self-attention layers in the decoder allow each position in the decoder to attend to\n",
    "all positions in the decoder up to and including that position. We need to prevent leftward\n",
    "information flow in the decoder to preserve the auto-regressive property. We implement this\n",
    "inside of scaled dot-product attention by masking out (setting to minus infinity) all values in the input\n",
    "of the softmax which correspond to illegal connections.\n",
    "\n",
    "Position-wise Feed-Forward Networks\n",
    "In addition to attention sub-layers, each of the layers in our encoder and decoder contains a fully\n",
    "connected feed-forward network, which is applied to each position separately and identically. This\n",
    "consists of two linear transformations with a ReLU activation in between.\n",
    "While the linear transformations are the same across different positions, they use different parameters\n",
    "from layer to layer. Another way of describing this is as two convolutions with kernel size 1.\n",
    "The dimensionality of input and output is d_model = 512, and the inner-layer has dimensionality\n",
    "d_f_f = 2048.\n",
    "\n",
    "Embeddings and Softmax\n",
    "Similarly to other sequence transduction models, we use learned embeddings to convert the input\n",
    "tokens and output tokens to vectors of dimension dmodel. \n",
    "We also use the usual learned linear transformation and softmax function to convert the decoder output to predicted next-token probabilities. \n",
    "In our model, we share the same weight matrix between the two embedding layers and the pre-softmax\n",
    "linear transformation. In the embedding layers, we multiply those weights by square root(d_dmodel).\n",
    "\"\"\""
   ]
  },
  {
   "cell_type": "markdown",
   "id": "157ed6c5-6a42-4bf6-b82d-160ff0f9c772",
   "metadata": {},
   "source": [
    "<hr style=\"height:10px;border-width:0;color:#CCD7E9;background-color:#CCD7E9\">"
   ]
  },
  {
   "cell_type": "markdown",
   "id": "2d41b495-9a6e-45f4-95e7-da7dd23809a9",
   "metadata": {},
   "source": [
    "# Model: Distilbert-Base-Cased-Distilled-Squad\n",
    "\n",
    "Source: __[Huggingface - Distilbert/Distilbert](https://huggingface.co/distilbert/distilbert-base-cased-distilled-squad)__"
   ]
  },
  {
   "cell_type": "code",
   "execution_count": 105,
   "id": "26e0f432-ad94-40a1-8d8d-c9ceb36b01f7",
   "metadata": {},
   "outputs": [],
   "source": [
    "question_answerer = pipeline(\"question-answering\", model='distilbert-base-cased-distilled-squad', device=\"mps\")"
   ]
  },
  {
   "cell_type": "code",
   "execution_count": 106,
   "id": "1bc07f59-359f-4108-a459-e26acaba4afd",
   "metadata": {},
   "outputs": [
    {
     "data": {
      "text/html": [
       "<div>\n",
       "<style scoped>\n",
       "    .dataframe tbody tr th:only-of-type {\n",
       "        vertical-align: middle;\n",
       "    }\n",
       "\n",
       "    .dataframe tbody tr th {\n",
       "        vertical-align: top;\n",
       "    }\n",
       "\n",
       "    .dataframe thead th {\n",
       "        text-align: right;\n",
       "    }\n",
       "</style>\n",
       "<table border=\"1\" class=\"dataframe\">\n",
       "  <thead>\n",
       "    <tr style=\"text-align: right;\">\n",
       "      <th></th>\n",
       "      <th>score</th>\n",
       "      <th>start</th>\n",
       "      <th>end</th>\n",
       "      <th>answer</th>\n",
       "    </tr>\n",
       "  </thead>\n",
       "  <tbody>\n",
       "    <tr>\n",
       "      <th>0</th>\n",
       "      <td>0.944151</td>\n",
       "      <td>2203</td>\n",
       "      <td>2208</td>\n",
       "      <td>h = 8</td>\n",
       "    </tr>\n",
       "  </tbody>\n",
       "</table>\n",
       "</div>"
      ],
      "text/plain": [
       "      score  start   end answer\n",
       "0  0.944151   2203  2208  h = 8"
      ]
     },
     "execution_count": 106,
     "metadata": {},
     "output_type": "execute_result"
    }
   ],
   "source": [
    "question_distilbert1 = \"How many parallel attention layers are used?\"\n",
    "outputs_distilbert1 = question_answerer(question=question_distilbert1, context=text)\n",
    "pd.DataFrame([outputs_distilbert1])"
   ]
  },
  {
   "cell_type": "code",
   "execution_count": 107,
   "id": "53ddd063-963a-484e-85cb-c3df3223a5a3",
   "metadata": {},
   "outputs": [
    {
     "data": {
      "text/html": [
       "<div>\n",
       "<style scoped>\n",
       "    .dataframe tbody tr th:only-of-type {\n",
       "        vertical-align: middle;\n",
       "    }\n",
       "\n",
       "    .dataframe tbody tr th {\n",
       "        vertical-align: top;\n",
       "    }\n",
       "\n",
       "    .dataframe thead th {\n",
       "        text-align: right;\n",
       "    }\n",
       "</style>\n",
       "<table border=\"1\" class=\"dataframe\">\n",
       "  <thead>\n",
       "    <tr style=\"text-align: right;\">\n",
       "      <th></th>\n",
       "      <th>score</th>\n",
       "      <th>start</th>\n",
       "      <th>end</th>\n",
       "      <th>answer</th>\n",
       "    </tr>\n",
       "  </thead>\n",
       "  <tbody>\n",
       "    <tr>\n",
       "      <th>0</th>\n",
       "      <td>0.953861</td>\n",
       "      <td>2502</td>\n",
       "      <td>2522</td>\n",
       "      <td>multi-head attention</td>\n",
       "    </tr>\n",
       "  </tbody>\n",
       "</table>\n",
       "</div>"
      ],
      "text/plain": [
       "      score  start   end                answer\n",
       "0  0.953861   2502  2522  multi-head attention"
      ]
     },
     "execution_count": 107,
     "metadata": {},
     "output_type": "execute_result"
    }
   ],
   "source": [
    "question_distilbert2 = \"What does the Transformer use?\"\n",
    "outputs_distilbert2 = question_answerer(question=question_distilbert2, context=text)\n",
    "pd.DataFrame([outputs_distilbert2])"
   ]
  },
  {
   "cell_type": "code",
   "execution_count": 108,
   "id": "eec47255-4315-4fe8-a769-ff6740e3685e",
   "metadata": {},
   "outputs": [
    {
     "data": {
      "text/html": [
       "<div>\n",
       "<style scoped>\n",
       "    .dataframe tbody tr th:only-of-type {\n",
       "        vertical-align: middle;\n",
       "    }\n",
       "\n",
       "    .dataframe tbody tr th {\n",
       "        vertical-align: top;\n",
       "    }\n",
       "\n",
       "    .dataframe thead th {\n",
       "        text-align: right;\n",
       "    }\n",
       "</style>\n",
       "<table border=\"1\" class=\"dataframe\">\n",
       "  <thead>\n",
       "    <tr style=\"text-align: right;\">\n",
       "      <th></th>\n",
       "      <th>score</th>\n",
       "      <th>start</th>\n",
       "      <th>end</th>\n",
       "      <th>answer</th>\n",
       "    </tr>\n",
       "  </thead>\n",
       "  <tbody>\n",
       "    <tr>\n",
       "      <th>0</th>\n",
       "      <td>0.877487</td>\n",
       "      <td>4235</td>\n",
       "      <td>4247</td>\n",
       "      <td>d_f_f = 2048</td>\n",
       "    </tr>\n",
       "  </tbody>\n",
       "</table>\n",
       "</div>"
      ],
      "text/plain": [
       "      score  start   end        answer\n",
       "0  0.877487   4235  4247  d_f_f = 2048"
      ]
     },
     "execution_count": 108,
     "metadata": {},
     "output_type": "execute_result"
    }
   ],
   "source": [
    "question_distilbert3 = \"What dimensionality has the inner-layer?\"\n",
    "outputs_distilbert3 = question_answerer(question=question_distilbert3, context=text)\n",
    "pd.DataFrame([outputs_distilbert3])"
   ]
  },
  {
   "cell_type": "markdown",
   "id": "56f978cd-d31a-4018-986d-1f804086337b",
   "metadata": {},
   "source": [
    "<hr style=\"height:10px;border-width:0;color:#CCD7E9;background-color:#CCD7E9\">"
   ]
  },
  {
   "cell_type": "markdown",
   "id": "e6e2af37-8632-4010-9d2f-28a53ebe25d8",
   "metadata": {},
   "source": [
    "# Model: Deepset/MiniLM-Uncased-Squad2\n",
    "\n",
    "Source: __[Huggingface - Deepset/MiniLM](https://huggingface.co/deepset/minilm-uncased-squad2)__"
   ]
  },
  {
   "cell_type": "code",
   "execution_count": 114,
   "id": "35357579-240d-40ab-a81a-1f13729938a2",
   "metadata": {},
   "outputs": [
    {
     "name": "stderr",
     "output_type": "stream",
     "text": [
      "Some weights of the model checkpoint at deepset/minilm-uncased-squad2 were not used when initializing BertForQuestionAnswering: ['bert.pooler.dense.bias', 'bert.pooler.dense.weight']\n",
      "- This IS expected if you are initializing BertForQuestionAnswering from the checkpoint of a model trained on another task or with another architecture (e.g. initializing a BertForSequenceClassification model from a BertForPreTraining model).\n",
      "- This IS NOT expected if you are initializing BertForQuestionAnswering from the checkpoint of a model that you expect to be exactly identical (initializing a BertForSequenceClassification model from a BertForSequenceClassification model).\n"
     ]
    }
   ],
   "source": [
    "question_answerer2 = pipeline(\"question-answering\", model=\"deepset/minilm-uncased-squad2\", device=\"mps\")"
   ]
  },
  {
   "cell_type": "code",
   "execution_count": 115,
   "id": "bd944117-d2ae-4595-89de-1a6f7d42b2d5",
   "metadata": {},
   "outputs": [
    {
     "data": {
      "text/html": [
       "<div>\n",
       "<style scoped>\n",
       "    .dataframe tbody tr th:only-of-type {\n",
       "        vertical-align: middle;\n",
       "    }\n",
       "\n",
       "    .dataframe tbody tr th {\n",
       "        vertical-align: top;\n",
       "    }\n",
       "\n",
       "    .dataframe thead th {\n",
       "        text-align: right;\n",
       "    }\n",
       "</style>\n",
       "<table border=\"1\" class=\"dataframe\">\n",
       "  <thead>\n",
       "    <tr style=\"text-align: right;\">\n",
       "      <th></th>\n",
       "      <th>score</th>\n",
       "      <th>start</th>\n",
       "      <th>end</th>\n",
       "      <th>answer</th>\n",
       "    </tr>\n",
       "  </thead>\n",
       "  <tbody>\n",
       "    <tr>\n",
       "      <th>0</th>\n",
       "      <td>0.874737</td>\n",
       "      <td>2203</td>\n",
       "      <td>2208</td>\n",
       "      <td>h = 8</td>\n",
       "    </tr>\n",
       "  </tbody>\n",
       "</table>\n",
       "</div>"
      ],
      "text/plain": [
       "      score  start   end answer\n",
       "0  0.874737   2203  2208  h = 8"
      ]
     },
     "execution_count": 115,
     "metadata": {},
     "output_type": "execute_result"
    }
   ],
   "source": [
    "question_miniLM1 = \"How many parallel attention layers are used?\"\n",
    "outputs_miniLM1 = question_answerer2(question=question_miniLM1, context=text)\n",
    "pd.DataFrame([outputs_miniLM1])\n"
   ]
  },
  {
   "cell_type": "code",
   "execution_count": 116,
   "id": "127ff9f1-0af9-4463-a2ca-59cf4527be41",
   "metadata": {},
   "outputs": [
    {
     "data": {
      "text/html": [
       "<div>\n",
       "<style scoped>\n",
       "    .dataframe tbody tr th:only-of-type {\n",
       "        vertical-align: middle;\n",
       "    }\n",
       "\n",
       "    .dataframe tbody tr th {\n",
       "        vertical-align: top;\n",
       "    }\n",
       "\n",
       "    .dataframe thead th {\n",
       "        text-align: right;\n",
       "    }\n",
       "</style>\n",
       "<table border=\"1\" class=\"dataframe\">\n",
       "  <thead>\n",
       "    <tr style=\"text-align: right;\">\n",
       "      <th></th>\n",
       "      <th>score</th>\n",
       "      <th>start</th>\n",
       "      <th>end</th>\n",
       "      <th>answer</th>\n",
       "    </tr>\n",
       "  </thead>\n",
       "  <tbody>\n",
       "    <tr>\n",
       "      <th>0</th>\n",
       "      <td>0.752412</td>\n",
       "      <td>2502</td>\n",
       "      <td>2522</td>\n",
       "      <td>multi-head attention</td>\n",
       "    </tr>\n",
       "  </tbody>\n",
       "</table>\n",
       "</div>"
      ],
      "text/plain": [
       "      score  start   end                answer\n",
       "0  0.752412   2502  2522  multi-head attention"
      ]
     },
     "execution_count": 116,
     "metadata": {},
     "output_type": "execute_result"
    }
   ],
   "source": [
    "question_miniLM2 = \"What does the Transformer use?\"\n",
    "outputs_miniLM2 = question_answerer2(question=question_miniLM2, context=text)\n",
    "pd.DataFrame([outputs_miniLM2])\n"
   ]
  },
  {
   "cell_type": "code",
   "execution_count": 117,
   "id": "3dc02901-185c-4755-b8de-7cdf5ca36f7f",
   "metadata": {},
   "outputs": [
    {
     "data": {
      "text/html": [
       "<div>\n",
       "<style scoped>\n",
       "    .dataframe tbody tr th:only-of-type {\n",
       "        vertical-align: middle;\n",
       "    }\n",
       "\n",
       "    .dataframe tbody tr th {\n",
       "        vertical-align: top;\n",
       "    }\n",
       "\n",
       "    .dataframe thead th {\n",
       "        text-align: right;\n",
       "    }\n",
       "</style>\n",
       "<table border=\"1\" class=\"dataframe\">\n",
       "  <thead>\n",
       "    <tr style=\"text-align: right;\">\n",
       "      <th></th>\n",
       "      <th>score</th>\n",
       "      <th>start</th>\n",
       "      <th>end</th>\n",
       "      <th>answer</th>\n",
       "    </tr>\n",
       "  </thead>\n",
       "  <tbody>\n",
       "    <tr>\n",
       "      <th>0</th>\n",
       "      <td>0.935633</td>\n",
       "      <td>4235</td>\n",
       "      <td>4247</td>\n",
       "      <td>d_f_f = 2048</td>\n",
       "    </tr>\n",
       "  </tbody>\n",
       "</table>\n",
       "</div>"
      ],
      "text/plain": [
       "      score  start   end        answer\n",
       "0  0.935633   4235  4247  d_f_f = 2048"
      ]
     },
     "execution_count": 117,
     "metadata": {},
     "output_type": "execute_result"
    }
   ],
   "source": [
    "question_miniLM3 = \"What dimensionality has the inner-layer?\"\n",
    "outputs_miniLM3 = question_answerer2(question=question_miniLM3, context=text)\n",
    "pd.DataFrame([outputs_miniLM3])\n"
   ]
  },
  {
   "cell_type": "markdown",
   "id": "ec8492b9-42fe-486d-9bb0-7343d028830b",
   "metadata": {},
   "source": [
    "<hr style=\"height:10px;border-width:0;color:#CCD7E9;background-color:#CCD7E9\">"
   ]
  },
  {
   "cell_type": "markdown",
   "id": "1fbd1836-144a-4b63-90e5-bb9addc307f9",
   "metadata": {},
   "source": [
    "# Model: Deepset/RoBERTa-Base-Squad2\n",
    "\n",
    "Source: __[Huggingface - Deepset/RoBERTa-Base-Squad2](https://huggingface.co/deepset/roberta-base-squad2)__\n"
   ]
  },
  {
   "cell_type": "code",
   "execution_count": 101,
   "id": "d63e872e-6381-4c34-a826-b506091f7299",
   "metadata": {},
   "outputs": [],
   "source": [
    "question_answerer3 = pipeline(\"question-answering\", \"deepset/roberta-base-squad2\", device=\"mps\")"
   ]
  },
  {
   "cell_type": "code",
   "execution_count": 102,
   "id": "c14bfab9-d8bc-4faf-be9c-6ec21ced6240",
   "metadata": {},
   "outputs": [
    {
     "data": {
      "text/html": [
       "<div>\n",
       "<style scoped>\n",
       "    .dataframe tbody tr th:only-of-type {\n",
       "        vertical-align: middle;\n",
       "    }\n",
       "\n",
       "    .dataframe tbody tr th {\n",
       "        vertical-align: top;\n",
       "    }\n",
       "\n",
       "    .dataframe thead th {\n",
       "        text-align: right;\n",
       "    }\n",
       "</style>\n",
       "<table border=\"1\" class=\"dataframe\">\n",
       "  <thead>\n",
       "    <tr style=\"text-align: right;\">\n",
       "      <th></th>\n",
       "      <th>score</th>\n",
       "      <th>start</th>\n",
       "      <th>end</th>\n",
       "      <th>answer</th>\n",
       "    </tr>\n",
       "  </thead>\n",
       "  <tbody>\n",
       "    <tr>\n",
       "      <th>0</th>\n",
       "      <td>0.719232</td>\n",
       "      <td>2203</td>\n",
       "      <td>2208</td>\n",
       "      <td>h = 8</td>\n",
       "    </tr>\n",
       "  </tbody>\n",
       "</table>\n",
       "</div>"
      ],
      "text/plain": [
       "      score  start   end answer\n",
       "0  0.719232   2203  2208  h = 8"
      ]
     },
     "execution_count": 102,
     "metadata": {},
     "output_type": "execute_result"
    }
   ],
   "source": [
    "question_roberta1 = \"How many parallel attention layers are used?\"\n",
    "outputs_roberta1 = question_answerer3(question=question_roberta1, context=text)\n",
    "pd.DataFrame([outputs_roberta1])\n"
   ]
  },
  {
   "cell_type": "code",
   "execution_count": 103,
   "id": "04330cc8-e0d8-4b3c-81ce-4f4ba1b5f49f",
   "metadata": {},
   "outputs": [
    {
     "data": {
      "text/html": [
       "<div>\n",
       "<style scoped>\n",
       "    .dataframe tbody tr th:only-of-type {\n",
       "        vertical-align: middle;\n",
       "    }\n",
       "\n",
       "    .dataframe tbody tr th {\n",
       "        vertical-align: top;\n",
       "    }\n",
       "\n",
       "    .dataframe thead th {\n",
       "        text-align: right;\n",
       "    }\n",
       "</style>\n",
       "<table border=\"1\" class=\"dataframe\">\n",
       "  <thead>\n",
       "    <tr style=\"text-align: right;\">\n",
       "      <th></th>\n",
       "      <th>score</th>\n",
       "      <th>start</th>\n",
       "      <th>end</th>\n",
       "      <th>answer</th>\n",
       "    </tr>\n",
       "  </thead>\n",
       "  <tbody>\n",
       "    <tr>\n",
       "      <th>0</th>\n",
       "      <td>0.576957</td>\n",
       "      <td>2502</td>\n",
       "      <td>2522</td>\n",
       "      <td>multi-head attention</td>\n",
       "    </tr>\n",
       "  </tbody>\n",
       "</table>\n",
       "</div>"
      ],
      "text/plain": [
       "      score  start   end                answer\n",
       "0  0.576957   2502  2522  multi-head attention"
      ]
     },
     "execution_count": 103,
     "metadata": {},
     "output_type": "execute_result"
    }
   ],
   "source": [
    "question_roberta2 = \"What does the Transformer use?\"\n",
    "outputs_roberta2 = question_answerer3(question=question_roberta2, context=text)\n",
    "pd.DataFrame([outputs_roberta2])\n"
   ]
  },
  {
   "cell_type": "code",
   "execution_count": 104,
   "id": "f6bda374-e86e-4fd5-a6ae-2e475da602c6",
   "metadata": {},
   "outputs": [
    {
     "data": {
      "text/html": [
       "<div>\n",
       "<style scoped>\n",
       "    .dataframe tbody tr th:only-of-type {\n",
       "        vertical-align: middle;\n",
       "    }\n",
       "\n",
       "    .dataframe tbody tr th {\n",
       "        vertical-align: top;\n",
       "    }\n",
       "\n",
       "    .dataframe thead th {\n",
       "        text-align: right;\n",
       "    }\n",
       "</style>\n",
       "<table border=\"1\" class=\"dataframe\">\n",
       "  <thead>\n",
       "    <tr style=\"text-align: right;\">\n",
       "      <th></th>\n",
       "      <th>score</th>\n",
       "      <th>start</th>\n",
       "      <th>end</th>\n",
       "      <th>answer</th>\n",
       "    </tr>\n",
       "  </thead>\n",
       "  <tbody>\n",
       "    <tr>\n",
       "      <th>0</th>\n",
       "      <td>0.268242</td>\n",
       "      <td>4235</td>\n",
       "      <td>4247</td>\n",
       "      <td>d_f_f = 2048</td>\n",
       "    </tr>\n",
       "  </tbody>\n",
       "</table>\n",
       "</div>"
      ],
      "text/plain": [
       "      score  start   end        answer\n",
       "0  0.268242   4235  4247  d_f_f = 2048"
      ]
     },
     "execution_count": 104,
     "metadata": {},
     "output_type": "execute_result"
    }
   ],
   "source": [
    "question_roberta3 = \"What dimensionality has the inner-layer?\"\n",
    "outputs_roberta3 = question_answerer3(question=question_roberta3, context=text)\n",
    "pd.DataFrame([outputs_roberta3])\n"
   ]
  },
  {
   "cell_type": "markdown",
   "id": "8f7494c7-cb02-49c1-8e48-efefbe440258",
   "metadata": {},
   "source": [
    "<hr style=\"height:10px;border-width:0;color:#CCD7E9;background-color:#CCD7E9\">"
   ]
  },
  {
   "cell_type": "code",
   "execution_count": 118,
   "id": "48f69802-48c4-4ab8-97f2-e446f7d495e4",
   "metadata": {},
   "outputs": [],
   "source": [
    "outputs_dicts = {\n",
    "    \"Distilbert1\": outputs_distilbert1,\n",
    "    \"Distilbert2\": outputs_distilbert2,\n",
    "    \"Distilbert3\": outputs_distilbert3,\n",
    "    \"miniLM1\": outputs_miniLM1,\n",
    "    \"miniLM2\": outputs_miniLM2,\n",
    "    \"miniLM3\": outputs_miniLM3,\n",
    "    \"RoBERTa1\": outputs_roberta1,\n",
    "    \"RoBERTa2\": outputs_roberta2,\n",
    "    \"RoBERTa3\": outputs_roberta3\n",
    "}\n",
    "\n",
    "dfs = []\n",
    "for model_name, output_dict in outputs_dicts.items():\n",
    "    df = pd.DataFrame([output_dict])\n",
    "    df[\"Model\"] = model_name\n",
    "    dfs.append(df)"
   ]
  },
  {
   "cell_type": "code",
   "execution_count": 119,
   "id": "f65891d2-f33b-4646-a120-e755cb53dc8e",
   "metadata": {},
   "outputs": [],
   "source": [
    "combined_dfs = pd.concat(dfs, ignore_index=True)\n",
    "\n",
    "combined_dfs.reset_index(inplace=True)\n",
    "\n",
    "cols = [\"Model\"] + [col for col in combined_dfs.columns if col != \"Model\"]\n",
    "\n",
    "combined_df = combined_dfs[cols].reset_index(drop=True)\n",
    "\n",
    "combined_df.set_index(\"Model\", inplace=True)"
   ]
  },
  {
   "cell_type": "code",
   "execution_count": 120,
   "id": "eaa31e7b-d4f0-474d-9856-9f8f0ca9eb54",
   "metadata": {},
   "outputs": [
    {
     "data": {
      "text/html": [
       "<div>\n",
       "<style scoped>\n",
       "    .dataframe tbody tr th:only-of-type {\n",
       "        vertical-align: middle;\n",
       "    }\n",
       "\n",
       "    .dataframe tbody tr th {\n",
       "        vertical-align: top;\n",
       "    }\n",
       "\n",
       "    .dataframe thead th {\n",
       "        text-align: right;\n",
       "    }\n",
       "</style>\n",
       "<table border=\"1\" class=\"dataframe\">\n",
       "  <thead>\n",
       "    <tr style=\"text-align: right;\">\n",
       "      <th>Model</th>\n",
       "      <th>Distilbert1</th>\n",
       "      <th>Distilbert2</th>\n",
       "      <th>Distilbert3</th>\n",
       "      <th>miniLM1</th>\n",
       "      <th>miniLM2</th>\n",
       "      <th>miniLM3</th>\n",
       "      <th>RoBERTa1</th>\n",
       "      <th>RoBERTa2</th>\n",
       "      <th>RoBERTa3</th>\n",
       "    </tr>\n",
       "  </thead>\n",
       "  <tbody>\n",
       "    <tr>\n",
       "      <th>index</th>\n",
       "      <td>0</td>\n",
       "      <td>1</td>\n",
       "      <td>2</td>\n",
       "      <td>3</td>\n",
       "      <td>4</td>\n",
       "      <td>5</td>\n",
       "      <td>6</td>\n",
       "      <td>7</td>\n",
       "      <td>8</td>\n",
       "    </tr>\n",
       "    <tr>\n",
       "      <th>score</th>\n",
       "      <td>0.944151</td>\n",
       "      <td>0.953861</td>\n",
       "      <td>0.877487</td>\n",
       "      <td>0.874737</td>\n",
       "      <td>0.752412</td>\n",
       "      <td>0.935633</td>\n",
       "      <td>0.719232</td>\n",
       "      <td>0.576957</td>\n",
       "      <td>0.268242</td>\n",
       "    </tr>\n",
       "    <tr>\n",
       "      <th>start</th>\n",
       "      <td>2203</td>\n",
       "      <td>2502</td>\n",
       "      <td>4235</td>\n",
       "      <td>2203</td>\n",
       "      <td>2502</td>\n",
       "      <td>4235</td>\n",
       "      <td>2203</td>\n",
       "      <td>2502</td>\n",
       "      <td>4235</td>\n",
       "    </tr>\n",
       "    <tr>\n",
       "      <th>end</th>\n",
       "      <td>2208</td>\n",
       "      <td>2522</td>\n",
       "      <td>4247</td>\n",
       "      <td>2208</td>\n",
       "      <td>2522</td>\n",
       "      <td>4247</td>\n",
       "      <td>2208</td>\n",
       "      <td>2522</td>\n",
       "      <td>4247</td>\n",
       "    </tr>\n",
       "    <tr>\n",
       "      <th>answer</th>\n",
       "      <td>h = 8</td>\n",
       "      <td>multi-head attention</td>\n",
       "      <td>d_f_f = 2048</td>\n",
       "      <td>h = 8</td>\n",
       "      <td>multi-head attention</td>\n",
       "      <td>d_f_f = 2048</td>\n",
       "      <td>h = 8</td>\n",
       "      <td>multi-head attention</td>\n",
       "      <td>d_f_f = 2048</td>\n",
       "    </tr>\n",
       "  </tbody>\n",
       "</table>\n",
       "</div>"
      ],
      "text/plain": [
       "Model  Distilbert1           Distilbert2   Distilbert3   miniLM1  \\\n",
       "index            0                     1             2         3   \n",
       "score     0.944151              0.953861      0.877487  0.874737   \n",
       "start         2203                  2502          4235      2203   \n",
       "end           2208                  2522          4247      2208   \n",
       "answer       h = 8  multi-head attention  d_f_f = 2048     h = 8   \n",
       "\n",
       "Model                miniLM2       miniLM3  RoBERTa1              RoBERTa2  \\\n",
       "index                      4             5         6                     7   \n",
       "score               0.752412      0.935633  0.719232              0.576957   \n",
       "start                   2502          4235      2203                  2502   \n",
       "end                     2522          4247      2208                  2522   \n",
       "answer  multi-head attention  d_f_f = 2048     h = 8  multi-head attention   \n",
       "\n",
       "Model       RoBERTa3  \n",
       "index              8  \n",
       "score       0.268242  \n",
       "start           4235  \n",
       "end             4247  \n",
       "answer  d_f_f = 2048  "
      ]
     },
     "execution_count": 120,
     "metadata": {},
     "output_type": "execute_result"
    }
   ],
   "source": [
    "combined_df.T"
   ]
  },
  {
   "cell_type": "code",
   "execution_count": 124,
   "id": "e69b6f44-bbf5-4edb-81ce-9a51c5d72178",
   "metadata": {},
   "outputs": [
    {
     "data": {
      "image/png": "[encoded data removed]",
      "text/plain": [
       "<Figure size 800x400 with 1 Axes>"
      ]
     },
     "metadata": {},
     "output_type": "display_data"
    }
   ],
   "source": [
    "model_names = [\"Distilbert1\", \"Distilbert2\", \"Distilbert3\", \"MiniLM1\", \"MiniLM2\", \"MiniLM3\", \"RoBERTa1\", \"RoBERTa2\", \"RoBERTa3\"]\n",
    "scores = [0.944151, 0.953861, 0.877487, 0.874737, 0.752412, 0.935633, 0.719232, 0.576957, 0.268242]\n",
    "\n",
    "plt.figure(figsize=(8, 4))\n",
    "sns.barplot(x=model_names, y=scores, palette=\"coolwarm\")\n",
    "\n",
    "plt.xlabel(\"Model\", fontsize=12)\n",
    "plt.ylabel(\"Score\", fontsize=12)\n",
    "plt.title(\"Comparison of Question Answering Model Scores\", fontsize=14)\n",
    "plt.xticks(rotation=45)\n",
    "plt.ylim(0, 1)\n",
    "\n",
    "plt.show()\n"
   ]
  },
  {
   "cell_type": "markdown",
   "id": "9c2fe6b8-96b9-43d4-87ac-a5fd00903f26",
   "metadata": {},
   "source": [
    "<hr style=\"height:10px;border-width:0;color:#CCD7E9;background-color:#CCD7E9\">"
   ]
  },
  {
   "cell_type": "markdown",
   "id": "be869167-d92e-4805-b790-c69a70c78fde",
   "metadata": {},
   "source": [
    "# Résumé\n",
    "\n",
    "The results indicate strong performance across multiple models, with **DistilBERT1, MiniLM1,** and **RoBERTa1** correctly identifying *\"h = 8\"* as the answer. **RoBERTa2** and **MiniLM2** return *\"multi-head attention\"*, which is relevant but not as precise as **Distilbert2**. Interestingly enough is that as well as **DistilBERT3**, **MiniLM3** and **RoBERTa3** deliver the same output *\"d_f_f = 2048\"*, **RoBERTa3** has a very low confidence in its prediction.<br><br>\n",
    "\n",
    "The highest scores are achieved by **DistilBERT2 (0.95)**, **DistilBERT1 (0.94)** and **MiniLM3 (0.93)**, indicating high confidence in their answers. **RoBERTa** models generally have lower scores, with **RoBERTa3** performing the weakest **(0.26)**, suggesting a greater likelihood uncertain answers.<br><br>"
   ]
  }
 ],
 "metadata": {
  "kernelspec": {
   "display_name": "Python 3 (ipykernel)",
   "language": "python",
   "name": "python3"
  },
  "language_info": {
   "codemirror_mode": {
    "name": "ipython",
    "version": 3
   },
   "file_extension": ".py",
   "mimetype": "text/x-python",
   "name": "python",
   "nbconvert_exporter": "python",
   "pygments_lexer": "ipython3",
   "version": "3.8.19"
  }
 },
 "nbformat": 4,
 "nbformat_minor": 5
}
