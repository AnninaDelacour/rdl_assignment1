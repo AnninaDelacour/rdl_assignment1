{
 "cells": [
  {
   "cell_type": "code",
   "execution_count": 1,
   "id": "e58199a5-a53f-4284-aa5b-107e9ce9d68e",
   "metadata": {},
   "outputs": [],
   "source": [
    "import torch\n",
    "import multiprocessing\n",
    "from transformers import set_seed\n",
    "from transformers import pipeline\n",
    "import pandas as pd\n",
    "\n",
    "set_seed(42)"
   ]
  },
  {
   "cell_type": "code",
   "execution_count": 2,
   "id": "0e3a1b67-8c64-4971-b7a9-6832815fa70a",
   "metadata": {},
   "outputs": [
    {
     "name": "stdout",
     "output_type": "stream",
     "text": [
      "Number of GPUs: 1.0 / Number of CPU Cores: 24\n",
      "Training on NVIDIA GeForce RTX 4090 (cuda)\n"
     ]
    }
   ],
   "source": [
    "if torch.cuda.is_available():\n",
    "    DEVICE = torch.device(\"cuda\")\n",
    "    n_gpu = float(torch.cuda.device_count())\n",
    "    device_name = torch.cuda.get_device_name(DEVICE)\n",
    "elif torch.backends.mps.is_available():\n",
    "    DEVICE = torch.device(\"mps\")\n",
    "    device_name = \"Apple Silicon Device\"\n",
    "    n_gpu = 1.0\n",
    "else:\n",
    "    DEVICE = torch.device(\"cpu\")\n",
    "    device_name = \"CPU\"\n",
    "    n_gpu = 0.0\n",
    "\n",
    "n_cores = multiprocessing.cpu_count()\n",
    "print(f\"Number of GPUs: {n_gpu} / Number of CPU Cores: {n_cores}\")\n",
    "print(f\"Training on {device_name} ({DEVICE})\")"
   ]
  },
  {
   "cell_type": "code",
   "execution_count": 3,
   "id": "6a539dbf-7e80-4112-b6b5-76dbb318f9c9",
   "metadata": {},
   "outputs": [],
   "source": [
    "context = \"\"\"Scaled Dot-Product Attention\n",
    "We call our particular attention \"Scaled Dot-Product Attention\". The input consists of\n",
    "queries and keys of dimension d_k, and values of dimension d_v. We compute the dot products of the\n",
    "query with all keys, divide each by square root(d_k), and apply a softmax function to obtain the weights on the\n",
    "values. In practice, we compute the attention function on a set of queries simultaneously, packed together\n",
    "into a matrix Q. The keys and values are also packed together into matrices K and V .\n",
    "The two most commonly used attention functions are additive attention, and dot-product (multiplicative) attention. \n",
    "Dot-product attention is identical to our algorithm, except for the scaling factor of square root(1/d_k). \n",
    "Additive attention computes the compatibility function using a feed-forward network with\n",
    "a single hidden layer. While the two are similar in theoretical complexity, dot-product attention is\n",
    "much faster and more space-efficient in practice, since it can be implemented using highly optimized\n",
    "matrix multiplication code.\n",
    "While for small values of d_k the two mechanisms perform similarly, additive attention outperforms\n",
    "dot product attention without scaling for larger values of d_k. We suspect that for large values of\n",
    "d_k, the dot products grow large in magnitude, pushing the softmax function into regions where it has\n",
    "extremely small gradients. To counteract this effect, we scale the dot products by square root(1/d_k).\n",
    "\n",
    "Multi-Head Attention\n",
    "Instead of performing a single attention function with dmodel-dimensional keys, values and queries,\n",
    "we found it beneficial to linearly project the queries, keys and values h times with different, learned\n",
    "linear projections to dk, dk and dv dimensions, respectively. On each of these projected versions of\n",
    "queries, keys and values we then perform the attention function in parallel, yielding dv-dimensional\n",
    "output values. These are concatenated and once again projected, resulting in the final values.\n",
    "Multi-head attention allows the model to jointly attend to information from different representation\n",
    "subspaces at different positions. With a single attention head, averaging inhibits this.\n",
    "\n",
    "In this work we employ h = 8 parallel attention layers, or heads. For each of these we use\n",
    "d_k = d_v = d_model/h = 64. Due to the reduced dimension of each head, the total computational cost\n",
    "is similar to that of single-head attention with full dimensionality.\n",
    "\n",
    "Applications of Attention in our Model\n",
    "The Transformer uses multi-head attention in three different ways:\n",
    "- In \"encoder-decoder attention\" layers, the queries come from the previous decoder layer,\n",
    "and the memory keys and values come from the output of the encoder. This allows every\n",
    "position in the decoder to attend over all positions in the input sequence. This mimics the\n",
    "typical encoder-decoder attention mechanisms in sequence-to-sequence models.\n",
    "- The encoder contains self-attention layers. In a self-attention layer all of the keys, values\n",
    "and queries come from the same place, in this case, the output of the previous layer in the\n",
    "encoder. Each position in the encoder can attend to all positions in the previous layer of the\n",
    "encoder.\n",
    "- Similarly, self-attention layers in the decoder allow each position in the decoder to attend to\n",
    "all positions in the decoder up to and including that position. We need to prevent leftward\n",
    "information flow in the decoder to preserve the auto-regressive property. We implement this\n",
    "inside of scaled dot-product attention by masking out (setting to minus infinity) all values in the input\n",
    "of the softmax which correspond to illegal connections.\n",
    "\n",
    "Position-wise Feed-Forward Networks\n",
    "In addition to attention sub-layers, each of the layers in our encoder and decoder contains a fully\n",
    "connected feed-forward network, which is applied to each position separately and identically. This\n",
    "consists of two linear transformations with a ReLU activation in between.\n",
    "While the linear transformations are the same across different positions, they use different parameters\n",
    "from layer to layer. Another way of describing this is as two convolutions with kernel size 1.\n",
    "The dimensionality of input and output is d_model = 512, and the inner-layer has dimensionality\n",
    "d_f_f = 2048.\n",
    "\n",
    "Embeddings and Softmax\n",
    "Similarly to other sequence transduction models, we use learned embeddings to convert the input\n",
    "tokens and output tokens to vectors of dimension dmodel. \n",
    "We also use the usual learned linear transformation and softmax function to convert the decoder output to predicted next-token probabilities. \n",
    "In our model, we share the same weight matrix between the two embedding layers and the pre-softmax\n",
    "linear transformation. In the embedding layers, we multiply those weights by square root(d_dmodel).\n",
    "\"\"\""
   ]
  },
  {
   "cell_type": "code",
   "execution_count": 4,
   "id": "8471e19f-f2a2-44f5-a8f2-36f914b60212",
   "metadata": {},
   "outputs": [],
   "source": [
    "models = {\n",
    "        \"distilbert-base-cased-distilled-squad\": \"DistilBERT-cased (SQuAD)\",\n",
    "        \"bert-large-uncased-whole-word-masking-finetuned-squad\": \"BERT-large (SQuAD)\",\n",
    "        \"deepset/roberta-large-squad2\": \"RoBERTa-large (SQuAD2)\",\n",
    "        \"distilbert-base-uncased-distilled-squad\": \"DistilBERT-uncased (SQuAD)\",\n",
    "        \"bert-base-cased\": \"BERT-base-cased\",\n",
    "        \"albert-base-v2\": \"ALBERT-base-v2\",\n",
    "        \"deepset/minilm-uncased-squad2\": \"MiniLM (SQuAD2)\",\n",
    "}"
   ]
  },
  {
   "cell_type": "code",
   "execution_count": 5,
   "id": "98260432-8dd5-4cd1-874a-93382f37dd76",
   "metadata": {},
   "outputs": [],
   "source": [
    "def answer(question, models=models, context=context):\n",
    "    results = []\n",
    "    \n",
    "    for model_name, model_label in models.items():\n",
    "        try:\n",
    "            question_answerer = pipeline(\"question-answering\", model=model_name)\n",
    "            output = question_answerer(question=question, context=context)\n",
    "    \n",
    "            results.append({\"Model\": model_label, **output})\n",
    "            print(f\"--- {model_label} ---\")\n",
    "            print(output)\n",
    "    \n",
    "        except Exception as e:\n",
    "            print(f\"Error processing {model_label}: {e}\")\n",
    "    return results        "
   ]
  },
  {
   "cell_type": "code",
   "execution_count": 8,
   "id": "444e97e1-2fcb-439a-bcf0-d16523615fe9",
   "metadata": {},
   "outputs": [
    {
     "name": "stderr",
     "output_type": "stream",
     "text": [
      "Device set to use cuda:0\n",
      "Some weights of the model checkpoint at bert-large-uncased-whole-word-masking-finetuned-squad were not used when initializing BertForQuestionAnswering: ['bert.pooler.dense.bias', 'bert.pooler.dense.weight']\n",
      "- This IS expected if you are initializing BertForQuestionAnswering from the checkpoint of a model trained on another task or with another architecture (e.g. initializing a BertForSequenceClassification model from a BertForPreTraining model).\n",
      "- This IS NOT expected if you are initializing BertForQuestionAnswering from the checkpoint of a model that you expect to be exactly identical (initializing a BertForSequenceClassification model from a BertForSequenceClassification model).\n"
     ]
    },
    {
     "name": "stdout",
     "output_type": "stream",
     "text": [
      "--- DistilBERT-cased (SQuAD) ---\n",
      "{'score': 0.944150984287262, 'start': 2203, 'end': 2208, 'answer': 'h = 8'}\n"
     ]
    },
    {
     "name": "stderr",
     "output_type": "stream",
     "text": [
      "Device set to use cuda:0\n"
     ]
    },
    {
     "name": "stdout",
     "output_type": "stream",
     "text": [
      "--- BERT-large (SQuAD) ---\n",
      "{'score': 0.7786585092544556, 'start': 2203, 'end': 2208, 'answer': 'h = 8'}\n"
     ]
    },
    {
     "name": "stderr",
     "output_type": "stream",
     "text": [
      "Device set to use cuda:0\n"
     ]
    },
    {
     "name": "stdout",
     "output_type": "stream",
     "text": [
      "--- RoBERTa-large (SQuAD2) ---\n",
      "{'score': 0.455313503742218, 'start': 2207, 'end': 2208, 'answer': '8'}\n"
     ]
    },
    {
     "name": "stderr",
     "output_type": "stream",
     "text": [
      "Device set to use cuda:0\n",
      "Some weights of BertForQuestionAnswering were not initialized from the model checkpoint at bert-base-cased and are newly initialized: ['qa_outputs.bias', 'qa_outputs.weight']\n",
      "You should probably TRAIN this model on a down-stream task to be able to use it for predictions and inference.\n"
     ]
    },
    {
     "name": "stdout",
     "output_type": "stream",
     "text": [
      "--- DistilBERT-uncased (SQuAD) ---\n",
      "{'score': 0.5905457139015198, 'start': 2207, 'end': 2208, 'answer': '8'}\n"
     ]
    },
    {
     "name": "stderr",
     "output_type": "stream",
     "text": [
      "Device set to use cuda:0\n",
      "Some weights of AlbertForQuestionAnswering were not initialized from the model checkpoint at albert-base-v2 and are newly initialized: ['qa_outputs.bias', 'qa_outputs.weight']\n",
      "You should probably TRAIN this model on a down-stream task to be able to use it for predictions and inference.\n"
     ]
    },
    {
     "name": "stdout",
     "output_type": "stream",
     "text": [
      "--- BERT-base-cased ---\n",
      "{'score': 3.535100040608086e-05, 'start': 3950, 'end': 3956, 'answer': 'linear'}\n"
     ]
    },
    {
     "name": "stderr",
     "output_type": "stream",
     "text": [
      "Device set to use cuda:0\n",
      "Some weights of the model checkpoint at deepset/minilm-uncased-squad2 were not used when initializing BertForQuestionAnswering: ['bert.pooler.dense.bias', 'bert.pooler.dense.weight']\n",
      "- This IS expected if you are initializing BertForQuestionAnswering from the checkpoint of a model trained on another task or with another architecture (e.g. initializing a BertForSequenceClassification model from a BertForPreTraining model).\n",
      "- This IS NOT expected if you are initializing BertForQuestionAnswering from the checkpoint of a model that you expect to be exactly identical (initializing a BertForSequenceClassification model from a BertForSequenceClassification model).\n"
     ]
    },
    {
     "name": "stdout",
     "output_type": "stream",
     "text": [
      "--- ALBERT-base-v2 ---\n",
      "{'score': 9.914715337799862e-05, 'start': 2570, 'end': 2610, 'answer': 'attention\" layers, the queries come from'}\n"
     ]
    },
    {
     "name": "stderr",
     "output_type": "stream",
     "text": [
      "Device set to use cuda:0\n"
     ]
    },
    {
     "name": "stdout",
     "output_type": "stream",
     "text": [
      "--- MiniLM (SQuAD2) ---\n",
      "{'score': 0.8747367262840271, 'start': 2203, 'end': 2208, 'answer': 'h = 8'}\n"
     ]
    },
    {
     "data": {
      "text/html": [
       "<div>\n",
       "<style scoped>\n",
       "    .dataframe tbody tr th:only-of-type {\n",
       "        vertical-align: middle;\n",
       "    }\n",
       "\n",
       "    .dataframe tbody tr th {\n",
       "        vertical-align: top;\n",
       "    }\n",
       "\n",
       "    .dataframe thead th {\n",
       "        text-align: right;\n",
       "    }\n",
       "</style>\n",
       "<table border=\"1\" class=\"dataframe\">\n",
       "  <thead>\n",
       "    <tr style=\"text-align: right;\">\n",
       "      <th></th>\n",
       "      <th>Model</th>\n",
       "      <th>score</th>\n",
       "      <th>start</th>\n",
       "      <th>end</th>\n",
       "      <th>answer</th>\n",
       "    </tr>\n",
       "  </thead>\n",
       "  <tbody>\n",
       "    <tr>\n",
       "      <th>0</th>\n",
       "      <td>DistilBERT-cased (SQuAD)</td>\n",
       "      <td>0.944151</td>\n",
       "      <td>2203</td>\n",
       "      <td>2208</td>\n",
       "      <td>h = 8</td>\n",
       "    </tr>\n",
       "    <tr>\n",
       "      <th>1</th>\n",
       "      <td>BERT-large (SQuAD)</td>\n",
       "      <td>0.778659</td>\n",
       "      <td>2203</td>\n",
       "      <td>2208</td>\n",
       "      <td>h = 8</td>\n",
       "    </tr>\n",
       "    <tr>\n",
       "      <th>2</th>\n",
       "      <td>RoBERTa-large (SQuAD2)</td>\n",
       "      <td>0.455314</td>\n",
       "      <td>2207</td>\n",
       "      <td>2208</td>\n",
       "      <td>8</td>\n",
       "    </tr>\n",
       "    <tr>\n",
       "      <th>3</th>\n",
       "      <td>DistilBERT-uncased (SQuAD)</td>\n",
       "      <td>0.590546</td>\n",
       "      <td>2207</td>\n",
       "      <td>2208</td>\n",
       "      <td>8</td>\n",
       "    </tr>\n",
       "    <tr>\n",
       "      <th>4</th>\n",
       "      <td>BERT-base-cased</td>\n",
       "      <td>0.000035</td>\n",
       "      <td>3950</td>\n",
       "      <td>3956</td>\n",
       "      <td>linear</td>\n",
       "    </tr>\n",
       "    <tr>\n",
       "      <th>5</th>\n",
       "      <td>ALBERT-base-v2</td>\n",
       "      <td>0.000099</td>\n",
       "      <td>2570</td>\n",
       "      <td>2610</td>\n",
       "      <td>attention\" layers, the queries come from</td>\n",
       "    </tr>\n",
       "    <tr>\n",
       "      <th>6</th>\n",
       "      <td>MiniLM (SQuAD2)</td>\n",
       "      <td>0.874737</td>\n",
       "      <td>2203</td>\n",
       "      <td>2208</td>\n",
       "      <td>h = 8</td>\n",
       "    </tr>\n",
       "  </tbody>\n",
       "</table>\n",
       "</div>"
      ],
      "text/plain": [
       "                        Model     score  start   end  \\\n",
       "0    DistilBERT-cased (SQuAD)  0.944151   2203  2208   \n",
       "1          BERT-large (SQuAD)  0.778659   2203  2208   \n",
       "2      RoBERTa-large (SQuAD2)  0.455314   2207  2208   \n",
       "3  DistilBERT-uncased (SQuAD)  0.590546   2207  2208   \n",
       "4             BERT-base-cased  0.000035   3950  3956   \n",
       "5              ALBERT-base-v2  0.000099   2570  2610   \n",
       "6             MiniLM (SQuAD2)  0.874737   2203  2208   \n",
       "\n",
       "                                     answer  \n",
       "0                                     h = 8  \n",
       "1                                     h = 8  \n",
       "2                                         8  \n",
       "3                                         8  \n",
       "4                                    linear  \n",
       "5  attention\" layers, the queries come from  \n",
       "6                                     h = 8  "
      ]
     },
     "execution_count": 8,
     "metadata": {},
     "output_type": "execute_result"
    }
   ],
   "source": [
    "question = \"How many parallel attention layers are used?\"\n",
    "pd.DataFrame(answer(question))"
   ]
  },
  {
   "cell_type": "code",
   "execution_count": 9,
   "id": "2689e976-c838-4199-978f-c05d71504624",
   "metadata": {},
   "outputs": [
    {
     "name": "stderr",
     "output_type": "stream",
     "text": [
      "Device set to use cuda:0\n"
     ]
    },
    {
     "name": "stdout",
     "output_type": "stream",
     "text": [
      "--- DistilBERT-cased (SQuAD) ---\n",
      "{'score': 0.9419193863868713, 'start': 1543, 'end': 1586, 'answer': 'dmodel-dimensional keys, values and queries'}\n"
     ]
    },
    {
     "name": "stderr",
     "output_type": "stream",
     "text": [
      "Some weights of the model checkpoint at bert-large-uncased-whole-word-masking-finetuned-squad were not used when initializing BertForQuestionAnswering: ['bert.pooler.dense.bias', 'bert.pooler.dense.weight']\n",
      "- This IS expected if you are initializing BertForQuestionAnswering from the checkpoint of a model trained on another task or with another architecture (e.g. initializing a BertForSequenceClassification model from a BertForPreTraining model).\n",
      "- This IS NOT expected if you are initializing BertForQuestionAnswering from the checkpoint of a model that you expect to be exactly identical (initializing a BertForSequenceClassification model from a BertForSequenceClassification model).\n",
      "Device set to use cuda:0\n"
     ]
    },
    {
     "name": "stdout",
     "output_type": "stream",
     "text": [
      "--- BERT-large (SQuAD) ---\n",
      "{'score': 0.8653480410575867, 'start': 571, 'end': 633, 'answer': 'additive attention, and dot-product (multiplicative) attention'}\n"
     ]
    },
    {
     "name": "stderr",
     "output_type": "stream",
     "text": [
      "Device set to use cuda:0\n",
      "Device set to use cuda:0\n"
     ]
    },
    {
     "name": "stdout",
     "output_type": "stream",
     "text": [
      "--- RoBERTa-large (SQuAD2) ---\n",
      "{'score': 0.862724244594574, 'start': 571, 'end': 633, 'answer': 'additive attention, and dot-product (multiplicative) attention'}\n"
     ]
    },
    {
     "name": "stderr",
     "output_type": "stream",
     "text": [
      "Some weights of BertForQuestionAnswering were not initialized from the model checkpoint at bert-base-cased and are newly initialized: ['qa_outputs.bias', 'qa_outputs.weight']\n",
      "You should probably TRAIN this model on a down-stream task to be able to use it for predictions and inference.\n",
      "Device set to use cuda:0\n"
     ]
    },
    {
     "name": "stdout",
     "output_type": "stream",
     "text": [
      "--- DistilBERT-uncased (SQuAD) ---\n",
      "{'score': 0.8931621313095093, 'start': 571, 'end': 633, 'answer': 'additive attention, and dot-product (multiplicative) attention'}\n"
     ]
    },
    {
     "name": "stderr",
     "output_type": "stream",
     "text": [
      "Some weights of AlbertForQuestionAnswering were not initialized from the model checkpoint at albert-base-v2 and are newly initialized: ['qa_outputs.bias', 'qa_outputs.weight']\n",
      "You should probably TRAIN this model on a down-stream task to be able to use it for predictions and inference.\n",
      "Device set to use cuda:0\n"
     ]
    },
    {
     "name": "stdout",
     "output_type": "stream",
     "text": [
      "--- BERT-base-cased ---\n",
      "{'score': 4.400855686981231e-05, 'start': 2970, 'end': 3001, 'answer': 'of the keys, values\\nand queries'}\n"
     ]
    },
    {
     "name": "stderr",
     "output_type": "stream",
     "text": [
      "Some weights of the model checkpoint at deepset/minilm-uncased-squad2 were not used when initializing BertForQuestionAnswering: ['bert.pooler.dense.bias', 'bert.pooler.dense.weight']\n",
      "- This IS expected if you are initializing BertForQuestionAnswering from the checkpoint of a model trained on another task or with another architecture (e.g. initializing a BertForSequenceClassification model from a BertForPreTraining model).\n",
      "- This IS NOT expected if you are initializing BertForQuestionAnswering from the checkpoint of a model that you expect to be exactly identical (initializing a BertForSequenceClassification model from a BertForSequenceClassification model).\n",
      "Device set to use cuda:0\n"
     ]
    },
    {
     "name": "stdout",
     "output_type": "stream",
     "text": [
      "--- ALBERT-base-v2 ---\n",
      "{'score': 0.00017285825742874295, 'start': 3977, 'end': 4054, 'answer': 'the same across different positions, they use different parameters\\nfrom layer'}\n",
      "--- MiniLM (SQuAD2) ---\n",
      "{'score': 0.8961867690086365, 'start': 571, 'end': 633, 'answer': 'additive attention, and dot-product (multiplicative) attention'}\n"
     ]
    },
    {
     "data": {
      "text/html": [
       "<div>\n",
       "<style scoped>\n",
       "    .dataframe tbody tr th:only-of-type {\n",
       "        vertical-align: middle;\n",
       "    }\n",
       "\n",
       "    .dataframe tbody tr th {\n",
       "        vertical-align: top;\n",
       "    }\n",
       "\n",
       "    .dataframe thead th {\n",
       "        text-align: right;\n",
       "    }\n",
       "</style>\n",
       "<table border=\"1\" class=\"dataframe\">\n",
       "  <thead>\n",
       "    <tr style=\"text-align: right;\">\n",
       "      <th></th>\n",
       "      <th>Model</th>\n",
       "      <th>score</th>\n",
       "      <th>start</th>\n",
       "      <th>end</th>\n",
       "      <th>answer</th>\n",
       "    </tr>\n",
       "  </thead>\n",
       "  <tbody>\n",
       "    <tr>\n",
       "      <th>0</th>\n",
       "      <td>DistilBERT-cased (SQuAD)</td>\n",
       "      <td>0.941919</td>\n",
       "      <td>1543</td>\n",
       "      <td>1586</td>\n",
       "      <td>dmodel-dimensional keys, values and queries</td>\n",
       "    </tr>\n",
       "    <tr>\n",
       "      <th>1</th>\n",
       "      <td>BERT-large (SQuAD)</td>\n",
       "      <td>0.865348</td>\n",
       "      <td>571</td>\n",
       "      <td>633</td>\n",
       "      <td>additive attention, and dot-product (multiplic...</td>\n",
       "    </tr>\n",
       "    <tr>\n",
       "      <th>2</th>\n",
       "      <td>RoBERTa-large (SQuAD2)</td>\n",
       "      <td>0.862724</td>\n",
       "      <td>571</td>\n",
       "      <td>633</td>\n",
       "      <td>additive attention, and dot-product (multiplic...</td>\n",
       "    </tr>\n",
       "    <tr>\n",
       "      <th>3</th>\n",
       "      <td>DistilBERT-uncased (SQuAD)</td>\n",
       "      <td>0.893162</td>\n",
       "      <td>571</td>\n",
       "      <td>633</td>\n",
       "      <td>additive attention, and dot-product (multiplic...</td>\n",
       "    </tr>\n",
       "    <tr>\n",
       "      <th>4</th>\n",
       "      <td>BERT-base-cased</td>\n",
       "      <td>0.000044</td>\n",
       "      <td>2970</td>\n",
       "      <td>3001</td>\n",
       "      <td>of the keys, values\\nand queries</td>\n",
       "    </tr>\n",
       "    <tr>\n",
       "      <th>5</th>\n",
       "      <td>ALBERT-base-v2</td>\n",
       "      <td>0.000173</td>\n",
       "      <td>3977</td>\n",
       "      <td>4054</td>\n",
       "      <td>the same across different positions, they use ...</td>\n",
       "    </tr>\n",
       "    <tr>\n",
       "      <th>6</th>\n",
       "      <td>MiniLM (SQuAD2)</td>\n",
       "      <td>0.896187</td>\n",
       "      <td>571</td>\n",
       "      <td>633</td>\n",
       "      <td>additive attention, and dot-product (multiplic...</td>\n",
       "    </tr>\n",
       "  </tbody>\n",
       "</table>\n",
       "</div>"
      ],
      "text/plain": [
       "                        Model     score  start   end  \\\n",
       "0    DistilBERT-cased (SQuAD)  0.941919   1543  1586   \n",
       "1          BERT-large (SQuAD)  0.865348    571   633   \n",
       "2      RoBERTa-large (SQuAD2)  0.862724    571   633   \n",
       "3  DistilBERT-uncased (SQuAD)  0.893162    571   633   \n",
       "4             BERT-base-cased  0.000044   2970  3001   \n",
       "5              ALBERT-base-v2  0.000173   3977  4054   \n",
       "6             MiniLM (SQuAD2)  0.896187    571   633   \n",
       "\n",
       "                                              answer  \n",
       "0        dmodel-dimensional keys, values and queries  \n",
       "1  additive attention, and dot-product (multiplic...  \n",
       "2  additive attention, and dot-product (multiplic...  \n",
       "3  additive attention, and dot-product (multiplic...  \n",
       "4                   of the keys, values\\nand queries  \n",
       "5  the same across different positions, they use ...  \n",
       "6  additive attention, and dot-product (multiplic...  "
      ]
     },
     "execution_count": 9,
     "metadata": {},
     "output_type": "execute_result"
    }
   ],
   "source": [
    "question = \"What are the two most commonly used attention functions?\"\n",
    "pd.DataFrame(answer(question))"
   ]
  },
  {
   "cell_type": "code",
   "execution_count": 10,
   "id": "48a16a8e-0419-4d99-8c7b-e19704e255c6",
   "metadata": {},
   "outputs": [
    {
     "name": "stderr",
     "output_type": "stream",
     "text": [
      "Device set to use cuda:0\n",
      "Some weights of the model checkpoint at bert-large-uncased-whole-word-masking-finetuned-squad were not used when initializing BertForQuestionAnswering: ['bert.pooler.dense.bias', 'bert.pooler.dense.weight']\n",
      "- This IS expected if you are initializing BertForQuestionAnswering from the checkpoint of a model trained on another task or with another architecture (e.g. initializing a BertForSequenceClassification model from a BertForPreTraining model).\n",
      "- This IS NOT expected if you are initializing BertForQuestionAnswering from the checkpoint of a model that you expect to be exactly identical (initializing a BertForSequenceClassification model from a BertForSequenceClassification model).\n"
     ]
    },
    {
     "name": "stdout",
     "output_type": "stream",
     "text": [
      "--- DistilBERT-cased (SQuAD) ---\n",
      "{'score': 0.849978506565094, 'start': 4191, 'end': 4194, 'answer': '512'}\n"
     ]
    },
    {
     "name": "stderr",
     "output_type": "stream",
     "text": [
      "Device set to use cuda:0\n"
     ]
    },
    {
     "name": "stdout",
     "output_type": "stream",
     "text": [
      "--- BERT-large (SQuAD) ---\n",
      "{'score': 0.40562957525253296, 'start': 2271, 'end': 2297, 'answer': 'd_k = d_v = d_model/h = 64'}\n"
     ]
    },
    {
     "name": "stderr",
     "output_type": "stream",
     "text": [
      "Device set to use cuda:0\n",
      "Device set to use cuda:0\n"
     ]
    },
    {
     "name": "stdout",
     "output_type": "stream",
     "text": [
      "--- RoBERTa-large (SQuAD2) ---\n",
      "{'score': 0.042103640735149384, 'start': 2295, 'end': 2297, 'answer': '64'}\n"
     ]
    },
    {
     "name": "stderr",
     "output_type": "stream",
     "text": [
      "Some weights of BertForQuestionAnswering were not initialized from the model checkpoint at bert-base-cased and are newly initialized: ['qa_outputs.bias', 'qa_outputs.weight']\n",
      "You should probably TRAIN this model on a down-stream task to be able to use it for predictions and inference.\n",
      "Device set to use cuda:0\n"
     ]
    },
    {
     "name": "stdout",
     "output_type": "stream",
     "text": [
      "--- DistilBERT-uncased (SQuAD) ---\n",
      "{'score': 0.839479923248291, 'start': 4191, 'end': 4194, 'answer': '512'}\n"
     ]
    },
    {
     "name": "stderr",
     "output_type": "stream",
     "text": [
      "Some weights of AlbertForQuestionAnswering were not initialized from the model checkpoint at albert-base-v2 and are newly initialized: ['qa_outputs.bias', 'qa_outputs.weight']\n",
      "You should probably TRAIN this model on a down-stream task to be able to use it for predictions and inference.\n",
      "Device set to use cuda:0\n"
     ]
    },
    {
     "name": "stdout",
     "output_type": "stream",
     "text": [
      "--- BERT-base-cased ---\n",
      "{'score': 0.00016906460223253816, 'start': 4661, 'end': 4668, 'answer': 'softmax'}\n"
     ]
    },
    {
     "name": "stderr",
     "output_type": "stream",
     "text": [
      "Some weights of the model checkpoint at deepset/minilm-uncased-squad2 were not used when initializing BertForQuestionAnswering: ['bert.pooler.dense.bias', 'bert.pooler.dense.weight']\n",
      "- This IS expected if you are initializing BertForQuestionAnswering from the checkpoint of a model trained on another task or with another architecture (e.g. initializing a BertForSequenceClassification model from a BertForPreTraining model).\n",
      "- This IS NOT expected if you are initializing BertForQuestionAnswering from the checkpoint of a model that you expect to be exactly identical (initializing a BertForSequenceClassification model from a BertForSequenceClassification model).\n",
      "Device set to use cuda:0\n"
     ]
    },
    {
     "name": "stdout",
     "output_type": "stream",
     "text": [
      "--- ALBERT-base-v2 ---\n",
      "{'score': 0.0006627399125136435, 'start': 4669, 'end': 4698, 'answer': 'linear transformation. In the'}\n",
      "--- MiniLM (SQuAD2) ---\n",
      "{'score': 0.6279764771461487, 'start': 2291, 'end': 2297, 'answer': 'h = 64'}\n"
     ]
    },
    {
     "data": {
      "text/html": [
       "<div>\n",
       "<style scoped>\n",
       "    .dataframe tbody tr th:only-of-type {\n",
       "        vertical-align: middle;\n",
       "    }\n",
       "\n",
       "    .dataframe tbody tr th {\n",
       "        vertical-align: top;\n",
       "    }\n",
       "\n",
       "    .dataframe thead th {\n",
       "        text-align: right;\n",
       "    }\n",
       "</style>\n",
       "<table border=\"1\" class=\"dataframe\">\n",
       "  <thead>\n",
       "    <tr style=\"text-align: right;\">\n",
       "      <th></th>\n",
       "      <th>Model</th>\n",
       "      <th>score</th>\n",
       "      <th>start</th>\n",
       "      <th>end</th>\n",
       "      <th>answer</th>\n",
       "    </tr>\n",
       "  </thead>\n",
       "  <tbody>\n",
       "    <tr>\n",
       "      <th>0</th>\n",
       "      <td>DistilBERT-cased (SQuAD)</td>\n",
       "      <td>0.849979</td>\n",
       "      <td>4191</td>\n",
       "      <td>4194</td>\n",
       "      <td>512</td>\n",
       "    </tr>\n",
       "    <tr>\n",
       "      <th>1</th>\n",
       "      <td>BERT-large (SQuAD)</td>\n",
       "      <td>0.405630</td>\n",
       "      <td>2271</td>\n",
       "      <td>2297</td>\n",
       "      <td>d_k = d_v = d_model/h = 64</td>\n",
       "    </tr>\n",
       "    <tr>\n",
       "      <th>2</th>\n",
       "      <td>RoBERTa-large (SQuAD2)</td>\n",
       "      <td>0.042104</td>\n",
       "      <td>2295</td>\n",
       "      <td>2297</td>\n",
       "      <td>64</td>\n",
       "    </tr>\n",
       "    <tr>\n",
       "      <th>3</th>\n",
       "      <td>DistilBERT-uncased (SQuAD)</td>\n",
       "      <td>0.839480</td>\n",
       "      <td>4191</td>\n",
       "      <td>4194</td>\n",
       "      <td>512</td>\n",
       "    </tr>\n",
       "    <tr>\n",
       "      <th>4</th>\n",
       "      <td>BERT-base-cased</td>\n",
       "      <td>0.000169</td>\n",
       "      <td>4661</td>\n",
       "      <td>4668</td>\n",
       "      <td>softmax</td>\n",
       "    </tr>\n",
       "    <tr>\n",
       "      <th>5</th>\n",
       "      <td>ALBERT-base-v2</td>\n",
       "      <td>0.000663</td>\n",
       "      <td>4669</td>\n",
       "      <td>4698</td>\n",
       "      <td>linear transformation. In the</td>\n",
       "    </tr>\n",
       "    <tr>\n",
       "      <th>6</th>\n",
       "      <td>MiniLM (SQuAD2)</td>\n",
       "      <td>0.627976</td>\n",
       "      <td>2291</td>\n",
       "      <td>2297</td>\n",
       "      <td>h = 64</td>\n",
       "    </tr>\n",
       "  </tbody>\n",
       "</table>\n",
       "</div>"
      ],
      "text/plain": [
       "                        Model     score  start   end  \\\n",
       "0    DistilBERT-cased (SQuAD)  0.849979   4191  4194   \n",
       "1          BERT-large (SQuAD)  0.405630   2271  2297   \n",
       "2      RoBERTa-large (SQuAD2)  0.042104   2295  2297   \n",
       "3  DistilBERT-uncased (SQuAD)  0.839480   4191  4194   \n",
       "4             BERT-base-cased  0.000169   4661  4668   \n",
       "5              ALBERT-base-v2  0.000663   4669  4698   \n",
       "6             MiniLM (SQuAD2)  0.627976   2291  2297   \n",
       "\n",
       "                          answer  \n",
       "0                            512  \n",
       "1     d_k = d_v = d_model/h = 64  \n",
       "2                             64  \n",
       "3                            512  \n",
       "4                        softmax  \n",
       "5  linear transformation. In the  \n",
       "6                         h = 64  "
      ]
     },
     "execution_count": 10,
     "metadata": {},
     "output_type": "execute_result"
    }
   ],
   "source": [
    "question = \"What are the dimensions used for d_k, d_v, and d_model in each head?\"\n",
    "pd.DataFrame(answer(question))"
   ]
  },
  {
   "cell_type": "code",
   "execution_count": 12,
   "id": "4bfc2170-0007-426b-bfb9-a9b979d202fe",
   "metadata": {},
   "outputs": [
    {
     "name": "stderr",
     "output_type": "stream",
     "text": [
      "Device set to use cuda:0\n"
     ]
    },
    {
     "name": "stdout",
     "output_type": "stream",
     "text": [
      "--- DistilBERT-cased (SQuAD) ---\n",
      "{'score': 0.28409114480018616, 'start': 2712, 'end': 2733, 'answer': 'allows every\\nposition'}\n"
     ]
    },
    {
     "name": "stderr",
     "output_type": "stream",
     "text": [
      "Some weights of the model checkpoint at bert-large-uncased-whole-word-masking-finetuned-squad were not used when initializing BertForQuestionAnswering: ['bert.pooler.dense.bias', 'bert.pooler.dense.weight']\n",
      "- This IS expected if you are initializing BertForQuestionAnswering from the checkpoint of a model trained on another task or with another architecture (e.g. initializing a BertForSequenceClassification model from a BertForPreTraining model).\n",
      "- This IS NOT expected if you are initializing BertForQuestionAnswering from the checkpoint of a model that you expect to be exactly identical (initializing a BertForSequenceClassification model from a BertForSequenceClassification model).\n",
      "Device set to use cuda:0\n"
     ]
    },
    {
     "name": "stdout",
     "output_type": "stream",
     "text": [
      "--- BERT-large (SQuAD) ---\n",
      "{'score': 0.607125997543335, 'start': 3408, 'end': 3448, 'answer': 'to preserve the auto-regressive property'}\n"
     ]
    },
    {
     "name": "stderr",
     "output_type": "stream",
     "text": [
      "Device set to use cuda:0\n",
      "Device set to use cuda:0\n"
     ]
    },
    {
     "name": "stdout",
     "output_type": "stream",
     "text": [
      "--- RoBERTa-large (SQuAD2) ---\n",
      "{'score': 0.0008226944482885301, 'start': 3284, 'end': 3346, 'answer': 'all positions in the decoder up to and including that position'}\n"
     ]
    },
    {
     "name": "stderr",
     "output_type": "stream",
     "text": [
      "Some weights of BertForQuestionAnswering were not initialized from the model checkpoint at bert-base-cased and are newly initialized: ['qa_outputs.bias', 'qa_outputs.weight']\n",
      "You should probably TRAIN this model on a down-stream task to be able to use it for predictions and inference.\n",
      "Device set to use cuda:0\n"
     ]
    },
    {
     "name": "stdout",
     "output_type": "stream",
     "text": [
      "--- DistilBERT-uncased (SQuAD) ---\n",
      "{'score': 0.5464997887611389, 'start': 3411, 'end': 3448, 'answer': 'preserve the auto-regressive property'}\n",
      "--- BERT-base-cased ---\n",
      "{'score': 3.380649286555126e-05, 'start': 4743, 'end': 4745, 'answer': 'by'}\n"
     ]
    },
    {
     "name": "stderr",
     "output_type": "stream",
     "text": [
      "Some weights of AlbertForQuestionAnswering were not initialized from the model checkpoint at albert-base-v2 and are newly initialized: ['qa_outputs.bias', 'qa_outputs.weight']\n",
      "You should probably TRAIN this model on a down-stream task to be able to use it for predictions and inference.\n",
      "Device set to use cuda:0\n"
     ]
    },
    {
     "name": "stdout",
     "output_type": "stream",
     "text": [
      "--- ALBERT-base-v2 ---\n",
      "{'score': 0.0002867771254386753, 'start': 1512, 'end': 1528, 'answer': 'single attention'}\n"
     ]
    },
    {
     "name": "stderr",
     "output_type": "stream",
     "text": [
      "Some weights of the model checkpoint at deepset/minilm-uncased-squad2 were not used when initializing BertForQuestionAnswering: ['bert.pooler.dense.bias', 'bert.pooler.dense.weight']\n",
      "- This IS expected if you are initializing BertForQuestionAnswering from the checkpoint of a model trained on another task or with another architecture (e.g. initializing a BertForSequenceClassification model from a BertForPreTraining model).\n",
      "- This IS NOT expected if you are initializing BertForQuestionAnswering from the checkpoint of a model that you expect to be exactly identical (initializing a BertForSequenceClassification model from a BertForSequenceClassification model).\n",
      "Device set to use cuda:0\n"
     ]
    },
    {
     "name": "stdout",
     "output_type": "stream",
     "text": [
      "--- MiniLM (SQuAD2) ---\n",
      "{'score': 0.0164836123585701, 'start': 3236, 'end': 3297, 'answer': 'allow each position in the decoder to attend to\\nall positions'}\n"
     ]
    },
    {
     "data": {
      "text/html": [
       "<div>\n",
       "<style scoped>\n",
       "    .dataframe tbody tr th:only-of-type {\n",
       "        vertical-align: middle;\n",
       "    }\n",
       "\n",
       "    .dataframe tbody tr th {\n",
       "        vertical-align: top;\n",
       "    }\n",
       "\n",
       "    .dataframe thead th {\n",
       "        text-align: right;\n",
       "    }\n",
       "</style>\n",
       "<table border=\"1\" class=\"dataframe\">\n",
       "  <thead>\n",
       "    <tr style=\"text-align: right;\">\n",
       "      <th></th>\n",
       "      <th>Model</th>\n",
       "      <th>score</th>\n",
       "      <th>start</th>\n",
       "      <th>end</th>\n",
       "      <th>answer</th>\n",
       "    </tr>\n",
       "  </thead>\n",
       "  <tbody>\n",
       "    <tr>\n",
       "      <th>0</th>\n",
       "      <td>DistilBERT-cased (SQuAD)</td>\n",
       "      <td>0.284091</td>\n",
       "      <td>2712</td>\n",
       "      <td>2733</td>\n",
       "      <td>allows every\\nposition</td>\n",
       "    </tr>\n",
       "    <tr>\n",
       "      <th>1</th>\n",
       "      <td>BERT-large (SQuAD)</td>\n",
       "      <td>0.607126</td>\n",
       "      <td>3408</td>\n",
       "      <td>3448</td>\n",
       "      <td>to preserve the auto-regressive property</td>\n",
       "    </tr>\n",
       "    <tr>\n",
       "      <th>2</th>\n",
       "      <td>RoBERTa-large (SQuAD2)</td>\n",
       "      <td>0.000823</td>\n",
       "      <td>3284</td>\n",
       "      <td>3346</td>\n",
       "      <td>all positions in the decoder up to and includi...</td>\n",
       "    </tr>\n",
       "    <tr>\n",
       "      <th>3</th>\n",
       "      <td>DistilBERT-uncased (SQuAD)</td>\n",
       "      <td>0.546500</td>\n",
       "      <td>3411</td>\n",
       "      <td>3448</td>\n",
       "      <td>preserve the auto-regressive property</td>\n",
       "    </tr>\n",
       "    <tr>\n",
       "      <th>4</th>\n",
       "      <td>BERT-base-cased</td>\n",
       "      <td>0.000034</td>\n",
       "      <td>4743</td>\n",
       "      <td>4745</td>\n",
       "      <td>by</td>\n",
       "    </tr>\n",
       "    <tr>\n",
       "      <th>5</th>\n",
       "      <td>ALBERT-base-v2</td>\n",
       "      <td>0.000287</td>\n",
       "      <td>1512</td>\n",
       "      <td>1528</td>\n",
       "      <td>single attention</td>\n",
       "    </tr>\n",
       "    <tr>\n",
       "      <th>6</th>\n",
       "      <td>MiniLM (SQuAD2)</td>\n",
       "      <td>0.016484</td>\n",
       "      <td>3236</td>\n",
       "      <td>3297</td>\n",
       "      <td>allow each position in the decoder to attend t...</td>\n",
       "    </tr>\n",
       "  </tbody>\n",
       "</table>\n",
       "</div>"
      ],
      "text/plain": [
       "                        Model     score  start   end  \\\n",
       "0    DistilBERT-cased (SQuAD)  0.284091   2712  2733   \n",
       "1          BERT-large (SQuAD)  0.607126   3408  3448   \n",
       "2      RoBERTa-large (SQuAD2)  0.000823   3284  3346   \n",
       "3  DistilBERT-uncased (SQuAD)  0.546500   3411  3448   \n",
       "4             BERT-base-cased  0.000034   4743  4745   \n",
       "5              ALBERT-base-v2  0.000287   1512  1528   \n",
       "6             MiniLM (SQuAD2)  0.016484   3236  3297   \n",
       "\n",
       "                                              answer  \n",
       "0                             allows every\\nposition  \n",
       "1           to preserve the auto-regressive property  \n",
       "2  all positions in the decoder up to and includi...  \n",
       "3              preserve the auto-regressive property  \n",
       "4                                                 by  \n",
       "5                                   single attention  \n",
       "6  allow each position in the decoder to attend t...  "
      ]
     },
     "execution_count": 12,
     "metadata": {},
     "output_type": "execute_result"
    }
   ],
   "source": [
    "question = \"What is the purpose of self-attention layers in the decoder?\"\n",
    "pd.DataFrame(answer(question))"
   ]
  },
  {
   "cell_type": "code",
   "execution_count": null,
   "id": "8d699b1e-4e82-4507-bccf-d0ab612c1cd3",
   "metadata": {},
   "outputs": [],
   "source": []
  }
 ],
 "metadata": {
  "kernelspec": {
   "display_name": "Python 3 (ipykernel)",
   "language": "python",
   "name": "python3"
  },
  "language_info": {
   "codemirror_mode": {
    "name": "ipython",
    "version": 3
   },
   "file_extension": ".py",
   "mimetype": "text/x-python",
   "name": "python",
   "nbconvert_exporter": "python",
   "pygments_lexer": "ipython3",
   "version": "3.10.16"
  }
 },
 "nbformat": 4,
 "nbformat_minor": 5
}
