{
 "cells": [
  {
   "cell_type": "markdown",
   "id": "fee5be5f-746e-4bae-a285-fb55b95ca277",
   "metadata": {},
   "source": [
    "# Exercise 1a - Testing Transformer\n",
    "\n",
    "\n",
    "The objective of this task is use Transformer Summarization for the paper \"Attention is All You Need\" from A. Vaswani et al. (2017), and afterwards verfiy whether the summary aligns or corresponds with the paper.\n",
    "<br>\n",
    "\n",
    "- <b>Group 3:</b> Cesar Laura, Ecker Annina, Dilly Julian\n",
    "- <b>Section of Paper:</b> \"Multi-Head Attention + Scaled Dot Production\"\n",
    "<br>\n",
    "<br>\n",
    "<div class=\"alert alert-block alert-info\">\n",
    "Note: Each of us worked on all tasks independently. We later discussed our findings and merged the best/most representative parts with eachother in one Notebook.\n",
    "</div>"
   ]
  },
  {
   "cell_type": "code",
   "execution_count": 58,
   "id": "34ede63a-e565-4365-aa5e-a38739d15c3d",
   "metadata": {},
   "outputs": [],
   "source": [
    "#!pip install -r requirements.txt\n",
    "#!pip install bert_score"
   ]
  },
  {
   "cell_type": "code",
   "execution_count": 8,
   "id": "95af91cf-e1f1-4320-895f-7f18b057cd9d",
   "metadata": {},
   "outputs": [
    {
     "name": "stdout",
     "output_type": "stream",
     "text": [
      "Using MPS device\n"
     ]
    }
   ],
   "source": [
    "import torch\n",
    "\n",
    "if torch.backends.mps.is_available():\n",
    "    device = torch.device(\"mps\")\n",
    "    print(\"Using MPS device\")\n",
    "else:\n",
    "    device = torch.device(\"cpu\")\n",
    "    print(\"Using CPU device\")\n"
   ]
  },
  {
   "cell_type": "code",
   "execution_count": 90,
   "id": "b8049951-d32b-4abc-8f69-d9438be34b58",
   "metadata": {},
   "outputs": [
    {
     "name": "stderr",
     "output_type": "stream",
     "text": [
      "[nltk_data] Downloading package punkt to /Users/annina/nltk_data...\n",
      "[nltk_data]   Package punkt is already up-to-date!\n"
     ]
    }
   ],
   "source": [
    "import warnings\n",
    "warnings.filterwarnings('ignore')\n",
    "\n",
    "from transformers import pipeline\n",
    "from transformers import AutoTokenizer\n",
    "\n",
    "import textwrap\n",
    "\n",
    "import bert_score\n",
    "\n",
    "import nltk\n",
    "nltk.download('punkt')\n",
    "from nltk.tokenize import sent_tokenize"
   ]
  },
  {
   "cell_type": "code",
   "execution_count": 91,
   "id": "732bafe5-7da8-4135-938e-2c0624e7632b",
   "metadata": {},
   "outputs": [],
   "source": [
    "text1 = \"\"\"Scaled Dot-Product Attention\n",
    "We call our particular attention \"Scaled Dot-Product Attention\". The input consists of\n",
    "queries and keys of dimension d_k, and values of dimension d_v. We compute the dot products of the\n",
    "query with all keys, divide each by square root(d_k), and apply a softmax function to obtain the weights on the\n",
    "values. In practice, we compute the attention function on a set of queries simultaneously, packed together\n",
    "into a matrix Q. The keys and values are also packed together into matrices K and V .\n",
    "The two most commonly used attention functions are additive attention, and dot-product (multiplicative) attention. \n",
    "Dot-product attention is identical to our algorithm, except for the scaling factor of square root(1/d_k). \n",
    "Additive attention computes the compatibility function using a feed-forward network with\n",
    "a single hidden layer. While the two are similar in theoretical complexity, dot-product attention is\n",
    "much faster and more space-efficient in practice, since it can be implemented using highly optimized\n",
    "matrix multiplication code.\n",
    "While for small values of d_k the two mechanisms perform similarly, additive attention outperforms\n",
    "dot product attention without scaling for larger values of d_k. We suspect that for large values of\n",
    "d_k, the dot products grow large in magnitude, pushing the softmax function into regions where it has\n",
    "extremely small gradients. To counteract this effect, we scale the dot products by square root(1/d_k).\n",
    "\n",
    "Multi-Head Attention\n",
    "Instead of performing a single attention function with dmodel-dimensional keys, values and queries,\n",
    "we found it beneficial to linearly project the queries, keys and values h times with different, learned\n",
    "linear projections to dk, dk and dv dimensions, respectively. On each of these projected versions of\n",
    "queries, keys and values we then perform the attention function in parallel, yielding dv-dimensional\n",
    "output values. These are concatenated and once again projected, resulting in the final values.\n",
    "Multi-head attention allows the model to jointly attend to information from different representation\n",
    "subspaces at different positions. With a single attention head, averaging inhibits this.\n",
    "\n",
    "In this work we employ h = 8 parallel attention layers, or heads. For each of these we use\n",
    "d_k = d_v = d_model/h = 64. Due to the reduced dimension of each head, the total computational cost\n",
    "is similar to that of single-head attention with full dimensionality.\n",
    "\"\"\"\n",
    "\n",
    "text2=\"\"\"\n",
    "Applications of Attention in our Model\n",
    "The Transformer uses multi-head attention in three different ways:\n",
    "- In \"encoder-decoder attention\" layers, the queries come from the previous decoder layer,\n",
    "and the memory keys and values come from the output of the encoder. This allows every\n",
    "position in the decoder to attend over all positions in the input sequence. This mimics the\n",
    "typical encoder-decoder attention mechanisms in sequence-to-sequence models.\n",
    "- The encoder contains self-attention layers. In a self-attention layer all of the keys, values\n",
    "and queries come from the same place, in this case, the output of the previous layer in the\n",
    "encoder. Each position in the encoder can attend to all positions in the previous layer of the\n",
    "encoder.\n",
    "- Similarly, self-attention layers in the decoder allow each position in the decoder to attend to\n",
    "all positions in the decoder up to and including that position. We need to prevent leftward\n",
    "information flow in the decoder to preserve the auto-regressive property. We implement this\n",
    "inside of scaled dot-product attention by masking out (setting to minus infinity) all values in the input\n",
    "of the softmax which correspond to illegal connections.\n",
    "\n",
    "Position-wise Feed-Forward Networks\n",
    "In addition to attention sub-layers, each of the layers in our encoder and decoder contains a fully\n",
    "connected feed-forward network, which is applied to each position separately and identically. This\n",
    "consists of two linear transformations with a ReLU activation in between.\n",
    "While the linear transformations are the same across different positions, they use different parameters\n",
    "from layer to layer. Another way of describing this is as two convolutions with kernel size 1.\n",
    "The dimensionality of input and output is d_model = 512, and the inner-layer has dimensionality\n",
    "d_f_f = 2048.\n",
    "\n",
    "Embeddings and Softmax\n",
    "Similarly to other sequence transduction models, we use learned embeddings to convert the input\n",
    "tokens and output tokens to vectors of dimension dmodel. \n",
    "We also use the usual learned linear transformation and softmax function to convert the decoder output to predicted next-token probabilities. \n",
    "In our model, we share the same weight matrix between the two embedding layers and the pre-softmax\n",
    "linear transformation. In the embedding layers, we multiply those weights by square root(d_dmodel).\n",
    "\"\"\""
   ]
  },
  {
   "cell_type": "code",
   "execution_count": 53,
   "id": "6fd07ceb-5193-46dc-ad00-c46adbf7c141",
   "metadata": {},
   "outputs": [],
   "source": [
    "def split_into_chunks(text, tokenizer, max_tokens=512):\n",
    "    words = text.split()\n",
    "    chunks = []\n",
    "    current_chunk = []\n",
    "    for word in words:\n",
    "        current_chunk.append(word)\n",
    "        tokenized_chunk = tokenizer(\" \".join(current_chunk), return_tensors=\"pt\").input_ids\n",
    "        if tokenized_chunk.shape[1] > max_tokens:\n",
    "            chunks.append(\" \".join(current_chunk[:-1]))\n",
    "            current_chunk = [word]\n",
    "    if current_chunk:\n",
    "        chunks.append(\" \".join(current_chunk))\n",
    "    return chunks"
   ]
  },
  {
   "cell_type": "markdown",
   "id": "ce798068-50a9-4f61-b00e-ac8b2fec36dd",
   "metadata": {},
   "source": [
    "<hr style=\"height:10px;border-width:0;color:#CCD7E9;background-color:#CCD7E9\">"
   ]
  },
  {
   "cell_type": "markdown",
   "id": "fdf47bed-e73e-41d6-ad7d-4da5b5d68717",
   "metadata": {},
   "source": [
    "# Model: Default - Sshleifer/Distilbart-CNN-12-6\n",
    "\n",
    "Source: __[link text](http://url)__"
   ]
  },
  {
   "cell_type": "code",
   "execution_count": 85,
   "id": "127ff9f1-0af9-4463-a2ca-59cf4527be41",
   "metadata": {},
   "outputs": [
    {
     "name": "stderr",
     "output_type": "stream",
     "text": [
      "No model was supplied, defaulted to sshleifer/distilbart-cnn-12-6 and revision a4f8f3e (https://huggingface.co/sshleifer/distilbart-cnn-12-6).\n",
      "Using a pipeline without specifying a model name and revision in production is not recommended.\n"
     ]
    },
    {
     "name": "stdout",
     "output_type": "stream",
     "text": [
      " We call our particular attention \"Scaled Dot-Product Attention\" The input consists of a set of queries and keys of dimension d_k, and values d_v. The keys and values are also packed together into matrices K and V. The two most commonly used attention functions are additive attention and dot-product attention. Additive attention is faster and more space-efficient in practice. Multi-head attention allows the model to jointly attend to information from different representation subspaces at different positions. With a single attention head, averaging inhibits this. With each head, the total computational cost is similar to that of single head attention with full dimensionality. The work we employ h = 8 parallel attention layers, or heads. For each of these we use d_d_k = d_K = d. For each head we use D_k and D_K and d_D_k. For example, for example, we use H =d_K, for instance, for each of which we use a single head, or d__k is D__K. For instance, the cost is roughly 40% less than that of an attention head. For the work we use h = D_h =\n"
     ]
    }
   ],
   "source": [
    "summarizer = pipeline(\"summarization\", device=\"mps\")\n",
    "outputs = summarizer(\n",
    "    text1, \n",
    "    max_length=400, \n",
    "    min_length=250, \n",
    "    clean_up_tokenization_spaces=True\n",
    ")\n",
    "\n",
    "print(outputs[0]['summary_text'])"
   ]
  },
  {
   "cell_type": "code",
   "execution_count": 84,
   "id": "5217b0da-ced3-485a-944b-b4396e4cfa9d",
   "metadata": {},
   "outputs": [
    {
     "name": "stderr",
     "output_type": "stream",
     "text": [
      "No model was supplied, defaulted to sshleifer/distilbart-cnn-12-6 and revision a4f8f3e (https://huggingface.co/sshleifer/distilbart-cnn-12-6).\n",
      "Using a pipeline without specifying a model name and revision in production is not recommended.\n"
     ]
    },
    {
     "name": "stdout",
     "output_type": "stream",
     "text": [
      " The Transformer uses multi-head attention in three different ways. In \"encoder-decoder attention\" layers, the queries come from the previous decoder layer, and memory keys and values come from a self-attention layer. This allows every position in the decoder to attend over all positions in the input sequence. Each of the layers in our encoder and decoder contains a fully-connected feed-forward network, which is applied to each position separately and identically. We implement this inside of scaled dot-product attention by masking out (setting to minus infinity) all values in the output of the softmax which correspond to illegal connections. We use learned embeddings to convert the input and output tokens to vectors of dimension dmodel. The dimensionality of input & output is d_model = 512, and the inner-layer has dimensionality d_f_f = 2048. It also uses the usual learned linear transformation and softmax function to transform the output to predicted next-token probabilities. The model is based on the weight matrix between the two embedding layers and the pre-softmax transformed layers and a square root(d_dmodel). The model, we share the same weight matrix.\n"
     ]
    }
   ],
   "source": [
    "summarizer2 = pipeline(\"summarization\", device=\"mps\")\n",
    "outputs2 = summarizer2(\n",
    "    text2, \n",
    "    max_length=400, \n",
    "    min_length=250, \n",
    "    clean_up_tokenization_spaces=True\n",
    "    )\n",
    "\n",
    "print(outputs2[0]['summary_text'])"
   ]
  },
  {
   "cell_type": "markdown",
   "id": "c4ab7409-bb14-4834-9aa2-28d81dd98578",
   "metadata": {},
   "source": [
    "<hr>"
   ]
  },
  {
   "cell_type": "markdown",
   "id": "791d4139-7e12-4b0d-a047-17ed0cca569f",
   "metadata": {},
   "source": [
    "### Résumé\n",
    "\n",
    "The generated summaries include key concepts like Scaled Dot-Product Attention, Multi-Head Attention, and Encoder-Decoder Attention, but they lack clarity and accuracy in mathematical expressions. The latter can be explained by the lack of mathematical fine tuning and is therefore negligible.<br>\n",
    "The text contains repetitive and nonsensical phrases such as \"for example, for example, we use H = d_K, for instance\" and incorrect notations like \"d_d_k = d_K = d.\" Additionally, the explanation of computational efficiency is unclear and inconsistent with the original content. Furthermore, some sentences are cut off abruptly, making the summary difficult to interpret.<br>\n"
   ]
  },
  {
   "cell_type": "markdown",
   "id": "d338cf71-f3bc-49ba-8c30-5507650fecd6",
   "metadata": {},
   "source": [
    "<hr style=\"height:10px;border-width:0;color:#CCD7E9;background-color:#CCD7E9\">"
   ]
  },
  {
   "cell_type": "markdown",
   "id": "c5d36256-d21e-4120-9ebe-ead6c507c97b",
   "metadata": {},
   "source": [
    "# Model: Facebook/BART-Large-CNN (without further fine tuning)\n",
    "\n",
    "Source: __[Huggingface - Facebook/BART-Large-CNN](https://huggingface.co/facebook/bart-large-cnn)__"
   ]
  },
  {
   "cell_type": "code",
   "execution_count": 74,
   "id": "3dc02901-185c-4755-b8de-7cdf5ca36f7f",
   "metadata": {},
   "outputs": [
    {
     "name": "stdout",
     "output_type": "stream",
     "text": [
      "We call our particular attention \"Scaled Dot-Product Attention\" The input consists ofqueries and keys of dimension d_k, and values ofdimension d_v. We compute the dot products of the queries with all keys, divide each by root(d_k), and apply a softmax function to obtain the weights on the values. Multi-head attention allows the model to jointly attend to information from different representationsubspaces at different positions. With a single attention head, averaging inhibits this. We use h = 8 parallel attention layers, or heads. For each of these we use d_K = d_V = d _model/h = 64. Due to the reduced dimension of each head, the total computational cost is similar to that of single-head Attention with full dimensionality. We found it beneficial to linearly project the queries, keys and values h times with different, learned, projections to dk, dk and dv dimensions, respectively. On each. version of these projected versions of                queries, keys, values we then perform the attention function in parallel, yielding dv-dimensional output values. These are concatenated and once again projected, resulting in the final values. For example, we use h=8 + dv=8 - d_ model/h + d_model/H = 64 - dv = 8 + d model/H + d v = 64 / dv / H = 64/h.\n"
     ]
    }
   ],
   "source": [
    "summarizer_bart1 = pipeline(\"summarization\", model=\"facebook/bart-large-cnn\", device=\"mps\")\n",
    "outputs_bart1 = summarizer_bart1(text1, max_length=400, min_length=250, clean_up_tokenization_spaces=True)\n",
    "print(outputs_bart1[0]['summary_text'])"
   ]
  },
  {
   "cell_type": "code",
   "execution_count": 75,
   "id": "bda7e6e4-8a50-4327-a756-33806d267049",
   "metadata": {},
   "outputs": [
    {
     "name": "stdout",
     "output_type": "stream",
     "text": [
      "The Transformer uses multi-head attention in three different ways. In \"encoder-decoder attention\" layers, the queries come from the previous decoder layer. This allows every position in the decoder to attend over all positions in the input sequence. Each of the layers in our encoder and decoder contains a fully-connected feed-forward network, which is applied to each position separately and identically. We implement this inside of scaled dot-product attention by masking out (setting to minus infinity) all values in the softmax which correspond to illegal connections. We use learned embeddings to convert the input and output tokens to vectors of dimension dmodel. We also use the usual learned linear transformation and softmax function to convert decoder output to predicted next-token probabilities. In our model, we share the same weight matrix between the two embedding layers and the pre-softmaxlinear transformation. We need to prevent leftward information flow in theDecoder to preserve the auto-regressive property. We. implement thisinside of scaleddot- product attention by masksing out all values. in thesoftmax of theSoftmax to prevent illegal connections in the Softmax.  We. use the same weights by root(d_dmodel) for the embedding layer and the weight matrix for the inner-layer.\n"
     ]
    }
   ],
   "source": [
    "summarizer_bart2 = pipeline(\"summarization\", model=\"facebook/bart-large-cnn\", device=\"mps\")\n",
    "outputs_bart2 = summarizer_bart2(text2, max_length=400, min_length=250, clean_up_tokenization_spaces=True)\n",
    "print(outputs_bart2[0]['summary_text'])"
   ]
  },
  {
   "cell_type": "markdown",
   "id": "04771a1f-a34f-4f0a-b312-72d31a9c2002",
   "metadata": {},
   "source": [
    "<hr>"
   ]
  },
  {
   "cell_type": "markdown",
   "id": "6cecb6d7-be27-435b-ad47-93a8f6249d79",
   "metadata": {},
   "source": [
    "### Résumé\n",
    "\n",
    "While some key concepts are preserved, the summary fails in mathematical consistency, readability, and logical flow. It contains major formatting and repetition issues and does not reliably convey the technical accuracy of the original text.<br>"
   ]
  },
  {
   "cell_type": "markdown",
   "id": "1696ca89-7ffd-4f40-b611-e770778a3f03",
   "metadata": {},
   "source": [
    "<hr>"
   ]
  },
  {
   "cell_type": "code",
   "execution_count": 86,
   "id": "7b33794e-8725-4306-bbe1-3f32bec3485d",
   "metadata": {},
   "outputs": [
    {
     "name": "stdout",
     "output_type": "stream",
     "text": [
      "We call our particular attention \"Scaled Dot-Product Attention\" The input consists of queries and keys of dimension d_k, and values ofdimension d_v. We compute the dot products of the query with all keys, divide each by square root(d_k), and apply a softmax function to obtain the weights on the values. Instead of performing a single attention function with dmodel-dimensional keys, values and queries, we found it beneficial to linearly project the queries, keys and values h times with different, learned linear projections to dk, dk and dv dimensions.\n"
     ]
    }
   ],
   "source": [
    "summarizer_bart2_1 = pipeline(\"summarization\", model=\"facebook/bart-large-cnn\", device=\"mps\")\n",
    "chunks1 = split_into_chunks(text1, tokenizer, max_tokens=500)\n",
    "\n",
    "summaries_bart2_1 = [\n",
    "    summarizer_bart2_1(chunk, \n",
    "                    max_length=int(len(chunk.split()) * 0.5),\n",
    "                    min_length=int(len(chunk.split()) * 0.3),\n",
    "                    num_beams=7,\n",
    "                    repetition_penalty=1.1,\n",
    "                    early_stopping=True\n",
    "                   )[0]['summary_text'] \n",
    "    for chunk in chunks1\n",
    "]\n",
    "\n",
    "final_summary_bart2_1 = \" \".join(summaries_bart2_1)\n",
    "print(final_summary_bart2_1)\n"
   ]
  },
  {
   "cell_type": "code",
   "execution_count": 87,
   "id": "2d78cbb3-942a-48bd-bc2a-bbada733889f",
   "metadata": {},
   "outputs": [
    {
     "name": "stdout",
     "output_type": "stream",
     "text": [
      "The Transformer uses multi-head attention in three different ways. In \"encoder-decoder attention\" layers, the queries come from the previous decoder layer. This allows every position in the decoder to attend over all positions in the input sequence. Each of the layers in our encoder and decoder contains a fully connected feed-forward network, which is applied to each position separately and identically. We use learned embeddings to convert the input tokens and output tokens to vectors of dimension dmodel. We also use the usual learned linear transformation and softmax function to convert decoder output to predicted next-token probabilities.\n"
     ]
    }
   ],
   "source": [
    "summarizer_bart2_2 = pipeline(\"summarization\", model=\"facebook/bart-large-cnn\", device=\"mps\")\n",
    "chunks2 = split_into_chunks(text2, tokenizer, max_tokens=500)\n",
    "\n",
    "summaries_bart2_2 = [\n",
    "    summarizer_bart2_2(chunk, \n",
    "                    max_length=int(len(chunk.split()) * 0.5),\n",
    "                    min_length=int(len(chunk.split()) * 0.3),\n",
    "                    num_beams=7,\n",
    "                    repetition_penalty=1.1,\n",
    "                    early_stopping=True\n",
    "                   )[0]['summary_text'] \n",
    "    for chunk in chunks2\n",
    "]\n",
    "\n",
    "final_summary_bart2_2 = \" \".join(summaries_bart2_2)\n",
    "print(final_summary_bart2_2)"
   ]
  },
  {
   "cell_type": "markdown",
   "id": "6e5afcc1-7cdd-4a50-9f87-7470c6949732",
   "metadata": {},
   "source": [
    "<hr>"
   ]
  },
  {
   "cell_type": "markdown",
   "id": "44d1c920-6897-498d-8588-a422634e69db",
   "metadata": {},
   "source": [
    "### BERTScore\n",
    "\n",
    "Source: __[Huggingface - Bertscore](https://huggingface.co/spaces/evaluate-metric/bertscore)__"
   ]
  },
  {
   "cell_type": "code",
   "execution_count": 88,
   "id": "7e159186-b260-4130-a74d-9260edaa1e3c",
   "metadata": {},
   "outputs": [
    {
     "name": "stderr",
     "output_type": "stream",
     "text": [
      "Some weights of RobertaModel were not initialized from the model checkpoint at roberta-large and are newly initialized: ['roberta.pooler.dense.bias', 'roberta.pooler.dense.weight']\n",
      "You should probably TRAIN this model on a down-stream task to be able to use it for predictions and inference.\n"
     ]
    },
    {
     "name": "stdout",
     "output_type": "stream",
     "text": [
      "calculating scores...\n",
      "computing bert embedding.\n"
     ]
    },
    {
     "name": "stderr",
     "output_type": "stream",
     "text": [
      "100%|█████████████████████████████████████████████████████████████████████████████████████████████| 1/1 [00:03<00:00,  3.25s/it]\n"
     ]
    },
    {
     "name": "stdout",
     "output_type": "stream",
     "text": [
      "computing greedy matching.\n"
     ]
    },
    {
     "name": "stderr",
     "output_type": "stream",
     "text": [
      "100%|█████████████████████████████████████████████████████████████████████████████████████████████| 1/1 [00:00<00:00, 48.41it/s]"
     ]
    },
    {
     "name": "stdout",
     "output_type": "stream",
     "text": [
      "done in 3.28 seconds, 0.30 sentences/sec\n",
      "BERTScore F1 for finetuned Bart-Large-Cnn: 0.8873118758201599\n"
     ]
    },
    {
     "name": "stderr",
     "output_type": "stream",
     "text": [
      "\n"
     ]
    }
   ],
   "source": [
    "candidates_bart2_1 = [final_summary_bart2_1]\n",
    "references_bart2_1 = [text1]\n",
    "\n",
    "P, R, F1 = bert_score.score(candidates_bart2_1, references_bart2_1, lang=\"en\", verbose=True)\n",
    "\n",
    "print(\"BERTScore F1 for finetuned Bart-Large-Cnn:\", F1.item())"
   ]
  },
  {
   "cell_type": "code",
   "execution_count": 89,
   "id": "a5e2b73c-4f82-47ae-a04d-e687bbf8e319",
   "metadata": {},
   "outputs": [
    {
     "name": "stderr",
     "output_type": "stream",
     "text": [
      "Some weights of RobertaModel were not initialized from the model checkpoint at roberta-large and are newly initialized: ['roberta.pooler.dense.bias', 'roberta.pooler.dense.weight']\n",
      "You should probably TRAIN this model on a down-stream task to be able to use it for predictions and inference.\n"
     ]
    },
    {
     "name": "stdout",
     "output_type": "stream",
     "text": [
      "calculating scores...\n",
      "computing bert embedding.\n"
     ]
    },
    {
     "name": "stderr",
     "output_type": "stream",
     "text": [
      "100%|█████████████████████████████████████████████████████████████████████████████████████████████| 1/1 [00:01<00:00,  1.33s/it]\n"
     ]
    },
    {
     "name": "stdout",
     "output_type": "stream",
     "text": [
      "computing greedy matching.\n"
     ]
    },
    {
     "name": "stderr",
     "output_type": "stream",
     "text": [
      "100%|████████████████████████████████████████████████████████████████████████████████████████████| 1/1 [00:00<00:00, 476.57it/s]"
     ]
    },
    {
     "name": "stdout",
     "output_type": "stream",
     "text": [
      "done in 1.34 seconds, 0.75 sentences/sec\n",
      "BERTScore F1 for finetuned Bart-Large-Cnn: 0.8806095719337463\n"
     ]
    },
    {
     "name": "stderr",
     "output_type": "stream",
     "text": [
      "\n"
     ]
    }
   ],
   "source": [
    "candidates_bart2_2 = [final_summary_bart2_2]\n",
    "references_bart2_2 = [text2]\n",
    "\n",
    "P, R, F1 = bert_score.score(candidates_bart2_2, references_bart2_2, lang=\"en\", verbose=True)\n",
    "\n",
    "print(\"BERTScore F1 for finetuned Bart-Large-Cnn:\", F1.item())"
   ]
  },
  {
   "cell_type": "markdown",
   "id": "1cd1112b-b43e-4dc5-9d62-c30e397a1d35",
   "metadata": {},
   "source": [
    "<hr>"
   ]
  },
  {
   "cell_type": "markdown",
   "id": "3e6381f7-bccc-4c32-b79c-6dde62a91171",
   "metadata": {},
   "source": [
    "### Résumé\n",
    "\n",
    "The fine-tuned BART-Large-CNN summary successfully retains the core concepts of Scaled Dot-Product Attention, Multi-Head Attention, and Encoder-Decoder Attention, while improving readability and coherence. It correctly describes the softmax weighting mechanism and the benefits of multi-head attention, maintaining important mathematical notations like d_k, d_v, and d_model.\n",
    "<br><br>\n",
    "The high BERTScore F1 values (0.887 for text1 and 0.881 for text2) indicate a strong semantic alignment with the original text, demonstrating that the summarization model effectively preserves key information.\n",
    "<br><br>\n",
    "However, some crucial details are missing, particularly regarding computational efficiency, scaling effects, and masked attention in the decoder. While the summary remains accurate, it feels overly compressed and does not fully convey the reasoning behind architectural choices in transformers.\n"
   ]
  },
  {
   "cell_type": "markdown",
   "id": "99b42296-1eca-4116-96f1-4defcc9838a1",
   "metadata": {},
   "source": [
    "<hr style=\"height:10px;border-width:0;color:#CCD7E9;background-color:#CCD7E9\">"
   ]
  },
  {
   "cell_type": "markdown",
   "id": "dcb5c559-cd2c-4fd0-b378-3b81e3482304",
   "metadata": {},
   "source": [
    "# Model: Google/Pegasus-XSUM\n",
    "\n",
    "Source: __[Huggingface - Google/Pegasus-XSUM](https://huggingface.co/google/pegasus-xsum)__"
   ]
  },
  {
   "cell_type": "code",
   "execution_count": 92,
   "id": "df97c509-c03e-4db3-b18e-f8c7c3e45ea9",
   "metadata": {},
   "outputs": [
    {
     "name": "stdout",
     "output_type": "stream",
     "text": [
      "Tokenized input of text1 has 494 tokens, of text2 it has 458 tokens.\n"
     ]
    }
   ],
   "source": [
    "tokenizer = AutoTokenizer.from_pretrained(\"google/pegasus-xsum\")\n",
    "\n",
    "tokens1 = tokenizer(text1, return_tensors=\"pt\").input_ids\n",
    "tokens2 = tokenizer(text2, return_tensors=\"pt\").input_ids\n",
    "\n",
    "print(f\"Tokenized input of text1 has {tokens1.shape[1]} tokens, of text2 it has {tokens2.shape[1]} tokens.\")\n"
   ]
  },
  {
   "cell_type": "code",
   "execution_count": 93,
   "id": "35357579-240d-40ab-a81a-1f13729938a2",
   "metadata": {},
   "outputs": [
    {
     "name": "stderr",
     "output_type": "stream",
     "text": [
      "Some weights of PegasusForConditionalGeneration were not initialized from the model checkpoint at google/pegasus-xsum and are newly initialized: ['model.decoder.embed_positions.weight', 'model.encoder.embed_positions.weight']\n",
      "You should probably TRAIN this model on a down-stream task to be able to use it for predictions and inference.\n"
     ]
    },
    {
     "name": "stdout",
     "output_type": "stream",
     "text": [
      "In our work, we have developed a new type of attention function for the representation of dot products in full dimensionality. Multi-Head Attention Instead of performing a single attention function with d-dimensional keys, values and queries, we found it beneficial to linearly project the queries, keys values h times with different, learned linear projections to dk, dk and dv dimensions, respectively. The total computational cost is similar to that of single-head attention with full dimensionality.\n"
     ]
    }
   ],
   "source": [
    "summarizer_pegasus1 = pipeline(\"summarization\", model=\"google/pegasus-xsum\", device=\"mps\")\n",
    "chunks1 = split_into_chunks(text1, tokenizer, max_tokens=500)\n",
    "\n",
    "summaries_pegasus1 = [\n",
    "    summarizer_pegasus1(chunk, \n",
    "                        max_length=int(len(chunk.split()) * 0.4),\n",
    "                        min_length=int(len(chunk.split()) * 0.25), \n",
    "                        num_beams=7,\n",
    "                        repetition_penalty=1.2,\n",
    "                        early_stopping=True\n",
    "                       )[0]['summary_text'] \n",
    "    for chunk in chunks1\n",
    "]\n",
    "\n",
    "final_summary_pegasus1 = \" \".join(summaries_pegasus1)\n",
    "print(final_summary_pegasus1)\n"
   ]
  },
  {
   "cell_type": "code",
   "execution_count": 94,
   "id": "cc1c236a-1711-41d3-b3be-8a36f0da61d0",
   "metadata": {},
   "outputs": [
    {
     "name": "stderr",
     "output_type": "stream",
     "text": [
      "Some weights of PegasusForConditionalGeneration were not initialized from the model checkpoint at google/pegasus-xsum and are newly initialized: ['model.decoder.embed_positions.weight', 'model.encoder.embed_positions.weight']\n",
      "You should probably TRAIN this model on a down-stream task to be able to use it for predictions and inference.\n"
     ]
    },
    {
     "name": "stdout",
     "output_type": "stream",
     "text": [
      "Multi-head attention in a sequence-to-sequence model We present a model for multi-head attention in a sequence-to-sequence model, which allows each position in the decoder to attend all positions in the input sequence up to and including the last position in the output sequence, while preserving the auto-regressive property of encoder-decoder attention mechanisms in sequence-to-sequence models. - Similarly, self-attention layers in the decoder allow each position in the decoder to attend to all positions in the decoder up to and including that position.\n"
     ]
    }
   ],
   "source": [
    "summarizer_pegasus2 = pipeline(\"summarization\", model=\"google/pegasus-xsum\", device=\"mps\")\n",
    "chunks2 = split_into_chunks(text2, tokenizer, max_tokens=460)\n",
    "\n",
    "summaries_pegasus2 = [\n",
    "    summarizer_pegasus2(chunk, \n",
    "                        max_length=int(len(chunk.split()) * 0.4),\n",
    "                        min_length=int(len(chunk.split()) * 0.25), \n",
    "                        num_beams=7,\n",
    "                        repetition_penalty=1.2,\n",
    "                        early_stopping=True\n",
    "                       )[0]['summary_text'] \n",
    "                      for chunk in chunks2\n",
    "                     ]\n",
    "final_summary_pegasus2 = \" \".join(summaries_pegasus2)\n",
    "print(final_summary_pegasus2)"
   ]
  },
  {
   "cell_type": "markdown",
   "id": "50dcde85-984a-484b-9eaf-f0b4b9165939",
   "metadata": {},
   "source": [
    "<hr>"
   ]
  },
  {
   "cell_type": "code",
   "execution_count": 95,
   "id": "f65891d2-f33b-4646-a120-e755cb53dc8e",
   "metadata": {},
   "outputs": [
    {
     "name": "stderr",
     "output_type": "stream",
     "text": [
      "Some weights of RobertaModel were not initialized from the model checkpoint at roberta-large and are newly initialized: ['roberta.pooler.dense.bias', 'roberta.pooler.dense.weight']\n",
      "You should probably TRAIN this model on a down-stream task to be able to use it for predictions and inference.\n"
     ]
    },
    {
     "name": "stdout",
     "output_type": "stream",
     "text": [
      "calculating scores...\n",
      "computing bert embedding.\n"
     ]
    },
    {
     "name": "stderr",
     "output_type": "stream",
     "text": [
      "100%|█████████████████████████████████████████████████████████████████████████████████████████████| 1/1 [00:03<00:00,  3.14s/it]\n"
     ]
    },
    {
     "name": "stdout",
     "output_type": "stream",
     "text": [
      "computing greedy matching.\n"
     ]
    },
    {
     "name": "stderr",
     "output_type": "stream",
     "text": [
      "100%|█████████████████████████████████████████████████████████████████████████████████████████████| 1/1 [00:00<00:00, 86.25it/s]"
     ]
    },
    {
     "name": "stdout",
     "output_type": "stream",
     "text": [
      "done in 3.18 seconds, 0.31 sentences/sec\n",
      "BERTScore F1 for Pegasus 1: 0.8523311018943787\n"
     ]
    },
    {
     "name": "stderr",
     "output_type": "stream",
     "text": [
      "\n"
     ]
    }
   ],
   "source": [
    "candidates_pegasus_1 = [final_summary_pegasus1]\n",
    "references_pegasus_1 = [text1]\n",
    "\n",
    "P, R, F1 = bert_score.score(candidates_pegasus_1, references_pegasus_1, lang=\"en\", verbose=True)\n",
    "\n",
    "print(\"BERTScore F1 for Pegasus 1:\", F1.item())\n"
   ]
  },
  {
   "cell_type": "code",
   "execution_count": 96,
   "id": "04330cc8-e0d8-4b3c-81ce-4f4ba1b5f49f",
   "metadata": {},
   "outputs": [
    {
     "name": "stderr",
     "output_type": "stream",
     "text": [
      "Some weights of RobertaModel were not initialized from the model checkpoint at roberta-large and are newly initialized: ['roberta.pooler.dense.bias', 'roberta.pooler.dense.weight']\n",
      "You should probably TRAIN this model on a down-stream task to be able to use it for predictions and inference.\n"
     ]
    },
    {
     "name": "stdout",
     "output_type": "stream",
     "text": [
      "calculating scores...\n",
      "computing bert embedding.\n"
     ]
    },
    {
     "name": "stderr",
     "output_type": "stream",
     "text": [
      "100%|█████████████████████████████████████████████████████████████████████████████████████████████| 1/1 [00:01<00:00,  1.02s/it]\n"
     ]
    },
    {
     "name": "stdout",
     "output_type": "stream",
     "text": [
      "computing greedy matching.\n"
     ]
    },
    {
     "name": "stderr",
     "output_type": "stream",
     "text": [
      "100%|████████████████████████████████████████████████████████████████████████████████████████████| 1/1 [00:00<00:00, 341.75it/s]"
     ]
    },
    {
     "name": "stdout",
     "output_type": "stream",
     "text": [
      "done in 1.02 seconds, 0.98 sentences/sec\n",
      "BERTScore F1 for Pegasus 2: 0.8651168346405029\n"
     ]
    },
    {
     "name": "stderr",
     "output_type": "stream",
     "text": [
      "\n"
     ]
    }
   ],
   "source": [
    "candidates_pegasus_2 = [final_summary_pegasus2]\n",
    "references_pegasus_2 = [text2]\n",
    "\n",
    "P, R, F1 = bert_score.score(candidates_pegasus_2, references_pegasus_2, lang=\"en\", verbose=True)\n",
    "\n",
    "print(\"BERTScore F1 for Pegasus 2:\", F1.item())"
   ]
  },
  {
   "cell_type": "markdown",
   "id": "ec8492b9-42fe-486d-9bb0-7343d028830b",
   "metadata": {},
   "source": [
    "### Résumé\n",
    "\n",
    "The Google/Pegasus-XSUM summary successfully captures core ideas related to Multi-Head Attention and Sequence-to-Sequence models while maintaining a concise structure. The key concepts of dot-product attention, projection of queries, keys and values, as well as encoder-decoder mechanisms are present, and the summary correctly mentions the auto-regressive property in sequence-to-sequence models.\n",
    "<br><br>\n",
    "However, the BERTScore F1 values (0.852 for text1 and 0.865 for text2) suggest a slightly lower semantic alignment compared to previous runs, indicating that some details may have been lost or reinterpreted. Some definitions lack depth, particularly regarding computational efficiency and scaling effects.<br>\n",
    "Additionally, while the text remains logically structured, it introduces slight ambiguities, such as in the phrase \"representation of dot products in full dimensionality\", which is not a precise technical explanation. The second text also contains redundancies, as seen in the repetition of \"each position in the decoder to attend all positions in the decoder\". Therefore we can conclude that even though the summary is quite well, there's room for improvement regarding the fine tuning."
   ]
  }
 ],
 "metadata": {
  "kernelspec": {
   "display_name": "Python 3 (ipykernel)",
   "language": "python",
   "name": "python3"
  },
  "language_info": {
   "codemirror_mode": {
    "name": "ipython",
    "version": 3
   },
   "file_extension": ".py",
   "mimetype": "text/x-python",
   "name": "python",
   "nbconvert_exporter": "python",
   "pygments_lexer": "ipython3",
   "version": "3.8.19"
  }
 },
 "nbformat": 4,
 "nbformat_minor": 5
}
