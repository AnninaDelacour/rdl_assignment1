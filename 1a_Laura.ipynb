{
 "cells": [
  {
   "cell_type": "code",
   "execution_count": 1,
   "id": "7ceda27e-f60c-4b2f-905c-8590ecc0734a",
   "metadata": {},
   "outputs": [],
   "source": [
    "import torch\n",
    "import multiprocessing\n",
    "from transformers import set_seed\n",
    "from transformers import pipeline\n",
    "import gc\n",
    "from transformers import LEDForConditionalGeneration, LEDTokenizer\n",
    "\n",
    "set_seed(42)"
   ]
  },
  {
   "cell_type": "code",
   "execution_count": 2,
   "id": "41baeefe-ebb2-47b3-ae26-4d7543480139",
   "metadata": {},
   "outputs": [
    {
     "name": "stdout",
     "output_type": "stream",
     "text": [
      "Number of GPUs: 1.0 / Number of CPU Cores: 8\n",
      "Training on Apple Silicon Device (mps)\n"
     ]
    }
   ],
   "source": [
    "if torch.cuda.is_available():\n",
    "    DEVICE = torch.device(\"cuda\")\n",
    "    n_gpu = float(torch.cuda.device_count())\n",
    "    device_name = torch.cuda.get_device_name(DEVICE)\n",
    "elif torch.backends.mps.is_available():\n",
    "    DEVICE = torch.device(\"mps\")\n",
    "    device_name = \"Apple Silicon Device\"\n",
    "    n_gpu = 1.0\n",
    "else:\n",
    "    DEVICE = torch.device(\"cpu\")\n",
    "    device_name = \"CPU\"\n",
    "    n_gpu = 0.0\n",
    "\n",
    "n_cores = multiprocessing.cpu_count()\n",
    "print(f\"Number of GPUs: {n_gpu} / Number of CPU Cores: {n_cores}\")\n",
    "print(f\"Training on {device_name} ({DEVICE})\")"
   ]
  },
  {
   "cell_type": "code",
   "execution_count": 3,
   "id": "22defea0-3693-41a3-ac53-c0ce0e693883",
   "metadata": {},
   "outputs": [],
   "source": [
    "def free_memory(pipeline=None):\n",
    "    if pipeline is not None:\n",
    "        del pipeline\n",
    "\n",
    "    gc.collect()\n",
    "\n",
    "    if DEVICE == torch.device(\"cuda\"):\n",
    "        torch.cuda.empty_cache()\n",
    "    elif DEVICE == torch.device(\"mps\"):\n",
    "        torch.mps.empty_cache()"
   ]
  },
  {
   "cell_type": "code",
   "execution_count": 4,
   "id": "b7080ff2-c1cf-4f3c-94ca-33da403d10bc",
   "metadata": {},
   "outputs": [],
   "source": [
    "text = \"\"\"Scaled Dot-Product Attention\n",
    "We call our particular attention \"Scaled Dot-Product Attention\". The input consists of\n",
    "queries and keys of dimension d_k, and values of dimension d_v. We compute the dot products of the\n",
    "query with all keys, divide each by square root(d_k), and apply a softmax function to obtain the weights on the\n",
    "values. In practice, we compute the attention function on a set of queries simultaneously, packed together\n",
    "into a matrix Q. The keys and values are also packed together into matrices K and V .\n",
    "The two most commonly used attention functions are additive attention, and dot-product (multiplicative) attention. \n",
    "Dot-product attention is identical to our algorithm, except for the scaling factor of square root(1/d_k). \n",
    "Additive attention computes the compatibility function using a feed-forward network with\n",
    "a single hidden layer. While the two are similar in theoretical complexity, dot-product attention is\n",
    "much faster and more space-efficient in practice, since it can be implemented using highly optimized\n",
    "matrix multiplication code.\n",
    "While for small values of d_k the two mechanisms perform similarly, additive attention outperforms\n",
    "dot product attention without scaling for larger values of d_k. We suspect that for large values of\n",
    "d_k, the dot products grow large in magnitude, pushing the softmax function into regions where it has\n",
    "extremely small gradients. To counteract this effect, we scale the dot products by square root(1/d_k).\n",
    "\n",
    "Multi-Head Attention\n",
    "Instead of performing a single attention function with dmodel-dimensional keys, values and queries,\n",
    "we found it beneficial to linearly project the queries, keys and values h times with different, learned\n",
    "linear projections to dk, dk and dv dimensions, respectively. On each of these projected versions of\n",
    "queries, keys and values we then perform the attention function in parallel, yielding dv-dimensional\n",
    "output values. These are concatenated and once again projected, resulting in the final values.\n",
    "Multi-head attention allows the model to jointly attend to information from different representation\n",
    "subspaces at different positions. With a single attention head, averaging inhibits this.\n",
    "\n",
    "In this work we employ h = 8 parallel attention layers, or heads. For each of these we use\n",
    "d_k = d_v = d_model/h = 64. Due to the reduced dimension of each head, the total computational cost\n",
    "is similar to that of single-head attention with full dimensionality.\n",
    "\n",
    "Applications of Attention in our Model\n",
    "The Transformer uses multi-head attention in three different ways:\n",
    "- In \"encoder-decoder attention\" layers, the queries come from the previous decoder layer,\n",
    "and the memory keys and values come from the output of the encoder. This allows every\n",
    "position in the decoder to attend over all positions in the input sequence. This mimics the\n",
    "typical encoder-decoder attention mechanisms in sequence-to-sequence models.\n",
    "- The encoder contains self-attention layers. In a self-attention layer all of the keys, values\n",
    "and queries come from the same place, in this case, the output of the previous layer in the\n",
    "encoder. Each position in the encoder can attend to all positions in the previous layer of the\n",
    "encoder.\n",
    "- Similarly, self-attention layers in the decoder allow each position in the decoder to attend to\n",
    "all positions in the decoder up to and including that position. We need to prevent leftward\n",
    "information flow in the decoder to preserve the auto-regressive property. We implement this\n",
    "inside of scaled dot-product attention by masking out (setting to minus infinity) all values in the input\n",
    "of the softmax which correspond to illegal connections.\n",
    "\n",
    "Position-wise Feed-Forward Networks\n",
    "In addition to attention sub-layers, each of the layers in our encoder and decoder contains a fully\n",
    "connected feed-forward network, which is applied to each position separately and identically. This\n",
    "consists of two linear transformations with a ReLU activation in between.\n",
    "While the linear transformations are the same across different positions, they use different parameters\n",
    "from layer to layer. Another way of describing this is as two convolutions with kernel size 1.\n",
    "The dimensionality of input and output is d_model = 512, and the inner-layer has dimensionality\n",
    "d_f_f = 2048.\n",
    "\n",
    "Embeddings and Softmax\n",
    "Similarly to other sequence transduction models, we use learned embeddings to convert the input\n",
    "tokens and output tokens to vectors of dimension dmodel. \n",
    "We also use the usual learned linear transformation and softmax function to convert the decoder output to predicted next-token probabilities. \n",
    "In our model, we share the same weight matrix between the two embedding layers and the pre-softmax\n",
    "linear transformation. In the embedding layers, we multiply those weights by square root(d_dmodel).\n",
    "\"\"\""
   ]
  },
  {
   "cell_type": "code",
   "execution_count": 6,
   "id": "06819589-e15f-443e-8aa2-0f78271a967c",
   "metadata": {},
   "outputs": [
    {
     "name": "stdout",
     "output_type": "stream",
     "text": [
      "['<s> in this paper , we present an efficient method for the preparation of multipartite entanglement between two remote parties .<n> our approach is based on the construction of a system of interacting subsystems , which are called multiply - multiply entangled systems ( multiply - multiply eigenvectors ) .<n> we show that such systems can be used to perform distributed quantum computation .<n> additionally , we show that it is possible to use these systems as a quantum computer .<n> finally , we discuss the performance and limitations of our approach . <n> [ [ section ] ] in this paper , we present an efficient method for the preparation of multipartite entanglement between two remote parties .<n> our approach is based on the construction of a system of interacting subsystems , which are called multiply - multiply entangled systems ( multiply - multiply eigenvectors ) .<n> we show that such systems can be used to perform distributed quantum computation .<n> additionally , we show that it is possible to use these systems as a quantum computer .<n> [ [ section ] ] in this paper , we present an efficient method for the preparation of multipartite entanglement between two remote parties .<n>']\n"
     ]
    }
   ],
   "source": [
    "from transformers import BigBirdPegasusForConditionalGeneration, AutoTokenizer\n",
    "\n",
    "tokenizer = AutoTokenizer.from_pretrained(\"google/bigbird-pegasus-large-arxiv\")\n",
    "\n",
    "# by default encoder-attention is `block_sparse` with num_random_blocks=3, block_size=64\n",
    "model = BigBirdPegasusForConditionalGeneration.from_pretrained(\"google/bigbird-pegasus-large-arxiv\").to(DEVICE)\n",
    "\n",
    "# decoder attention type can't be changed & will be \"original_full\"\n",
    "# you can change `attention_type` (encoder only) to full attention like this:\n",
    "# model = BigBirdPegasusForConditionalGeneration.from_pretrained(\"google/bigbird-pegasus-large-arxiv\", attention_type=\"original_full\")\n",
    "\n",
    "# you can change `block_size` & `num_random_blocks` like this:\n",
    "# model = BigBirdPegasusForConditionalGeneration.from_pretrained(\"google/bigbird-pegasus-large-arxiv\", block_size=16, num_random_blocks=2)\n",
    "\n",
    "inputs = tokenizer(text, return_tensors=\"pt\").to(DEVICE)\n",
    "prediction = model.generate(\n",
    "      **inputs,\n",
    "      num_beams=4,\n",
    "      early_stopping=True,\n",
    "      repetition_penalty=1.8,\n",
    "      max_length=250, #add a max length\n",
    ")\n",
    "prediction = tokenizer.batch_decode(prediction)\n",
    "print(prediction)"
   ]
  },
  {
   "cell_type": "markdown",
   "id": "8a4b1fdf-6513-4dc6-bce0-18a9fa32f8b5",
   "metadata": {
    "jp-MarkdownHeadingCollapsed": true
   },
   "source": [
    "# Playground"
   ]
  },
  {
   "cell_type": "code",
   "execution_count": null,
   "id": "09e4d545-911b-4453-b8f2-43da7515507f",
   "metadata": {},
   "outputs": [],
   "source": [
    "model_name = \"facebook/bart-large-cnn\"\n",
    "summarizer = pipeline(\"summarization\", model=model_name, device=DEVICE, min_length=100, max_length=2000)\n",
    "\n",
    "outputs = summarizer(text)\n",
    "print(outputs[0]['summary_text'])\n",
    "\n",
    "free_memory(summarizer)"
   ]
  },
  {
   "cell_type": "code",
   "execution_count": null,
   "id": "0b468f27-ac76-4cac-b936-e5e6ee199310",
   "metadata": {},
   "outputs": [],
   "source": [
    "model_name = \"google/pegasus-xsum\"\n",
    "summarizer = pipeline(\"summarization\", model=model_name, device=DEVICE)"
   ]
  },
  {
   "cell_type": "code",
   "execution_count": null,
   "id": "0061bf19-849f-4435-8ed8-3053bf71f911",
   "metadata": {},
   "outputs": [],
   "source": [
    "model_name = \"suriya7/bart-finetuned-text-summarization\"\n",
    "summarizer = pipeline(\"summarization\", model=model_name, device=DEVICE, min_length=100, max_length=2000)\n",
    "\n",
    "outputs = summarizer(text)\n",
    "print(outputs[0]['summary_text'])\n",
    "\n",
    "free_memory(summarizer)"
   ]
  },
  {
   "cell_type": "code",
   "execution_count": null,
   "id": "9eef2ce6-7ee4-4b68-b5e7-78f169f4d152",
   "metadata": {},
   "outputs": [],
   "source": [
    "model_name = \"Falconsai/text_summarization\"\n",
    "summarizer = pipeline(\"summarization\", model=model_name, device=DEVICE)\n",
    "\n",
    "outputs = summarizer(text)\n",
    "print(outputs[0]['summary_text'])\n",
    "\n",
    "free_memory(summarizer)"
   ]
  },
  {
   "cell_type": "code",
   "execution_count": null,
   "id": "4eac706d-6bfd-4762-ac5c-44ef9e39c18d",
   "metadata": {},
   "outputs": [],
   "source": [
    "model_name = \"google/bigbird-pegasus-large-arxiv\"\n",
    "summarizer = pipeline(\"text-generation\", model=model_name, device=DEVICE, max_length=2048)\n",
    "\n",
    "text = \"Please give me a short summarization of the following section of a paper: \" + text\n",
    "\n",
    "outputs = summarizer(text)\n",
    "print(outputs[0]['generated_text'])\n",
    "\n",
    "free_memory(summarizer)"
   ]
  },
  {
   "cell_type": "code",
   "execution_count": null,
   "id": "31fa6d4f-fde2-4f2c-b21c-c9d053d3b002",
   "metadata": {},
   "outputs": [],
   "source": [
    "tokenizer = LEDTokenizer.from_pretrained(\"allenai/led-large-16384-arxiv\")\n",
    "\n",
    "input_ids = tokenizer(text, return_tensors=\"pt\").input_ids.to(DEVICE)\n",
    "global_attention_mask = torch.zeros_like(input_ids)\n",
    "global_attention_mask[:, 0] = 1\n",
    "\n",
    "model = LEDForConditionalGeneration.from_pretrained(\"allenai/led-large-16384-arxiv\", return_dict_in_generate=True).to(DEVICE)\n",
    "\n",
    "sequences = model.generate(input_ids, global_attention_mask=global_attention_mask).sequences\n",
    "\n",
    "summary = tokenizer.batch_decode(sequences)\n",
    "print(summary)"
   ]
  },
  {
   "cell_type": "code",
   "execution_count": null,
   "id": "7b9034ce-3307-49da-a9f2-13008866c8d5",
   "metadata": {},
   "outputs": [],
   "source": [
    "model_name = \"allenai/led-large-16384-arxiv\"\n",
    "summarizer = pipeline(\"summarization\", model=model_name, device=DEVICE)\n",
    "\n",
    "outputs = summarizer(text)\n",
    "print(outputs[0]['summary_text'])\n",
    "\n",
    "free_memory(summarizer)"
   ]
  },
  {
   "cell_type": "code",
   "execution_count": null,
   "id": "6230c419-0aee-4014-bac1-821df29558ff",
   "metadata": {},
   "outputs": [],
   "source": [
    "model_name = \"Callidior/bert2bert-base-arxiv-titlegen\"\n",
    "summarizer = pipeline(\"summarization\", model=model_name, device=DEVICE)\n",
    "\n",
    "outputs = summarizer(text)\n",
    "print(outputs[0]['summary_text'])\n",
    "\n",
    "free_memory(summarizer)"
   ]
  },
  {
   "cell_type": "code",
   "execution_count": null,
   "id": "6bdbc314-98e1-47e0-a36a-c48653ea05d9",
   "metadata": {},
   "outputs": [],
   "source": [
    "tokenizer = LEDTokenizer.from_pretrained(\"Callidior/bert2bert-base-arxiv-titlegen\")\n",
    "\n",
    "input_ids = tokenizer(text, return_tensors=\"pt\").input_ids.to(DEVICE)\n",
    "global_attention_mask = torch.zeros_like(input_ids)\n",
    "global_attention_mask[:, 0] = 1\n",
    "\n",
    "model = LEDForConditionalGeneration.from_pretrained(\"allenai/led-large-16384-arxiv\", return_dict_in_generate=True).to(DEVICE)\n",
    "\n",
    "sequences = model.generate(input_ids, global_attention_mask=global_attention_mask).sequences\n",
    "\n",
    "summary = tokenizer.batch_decode(sequences)\n",
    "print(summary)"
   ]
  },
  {
   "cell_type": "markdown",
   "id": "673f85fd-9d44-4ecc-ae6b-f87d4a50b62c",
   "metadata": {},
   "source": []
  }
 ],
 "metadata": {
  "kernelspec": {
   "display_name": "Python 3 (ipykernel)",
   "language": "python",
   "name": "python3"
  },
  "language_info": {
   "codemirror_mode": {
    "name": "ipython",
    "version": 3
   },
   "file_extension": ".py",
   "mimetype": "text/x-python",
   "name": "python",
   "nbconvert_exporter": "python",
   "pygments_lexer": "ipython3",
   "version": "3.12.0"
  }
 },
 "nbformat": 4,
 "nbformat_minor": 5
}
